{
 "cells": [
  {
   "cell_type": "markdown",
   "metadata": {
    "papermill": {
     "duration": 0.013968,
     "end_time": "2021-03-22T10:30:59.422829",
     "exception": false,
     "start_time": "2021-03-22T10:30:59.408861",
     "status": "completed"
    },
    "tags": []
   },
   "source": [
    "## TF-IDF 알고리즘\n",
    "- 예제 : https://wikidocs.net/24603"
   ]
  },
  {
   "cell_type": "code",
   "execution_count": 1,
   "metadata": {
    "execution": {
     "iopub.execute_input": "2021-03-22T10:30:59.451776Z",
     "iopub.status.busy": "2021-03-22T10:30:59.450881Z",
     "iopub.status.idle": "2021-03-22T10:31:00.537447Z",
     "shell.execute_reply": "2021-03-22T10:31:00.536720Z"
    },
    "papermill": {
     "duration": 1.102851,
     "end_time": "2021-03-22T10:31:00.537593",
     "exception": false,
     "start_time": "2021-03-22T10:30:59.434742",
     "status": "completed"
    },
    "tags": []
   },
   "outputs": [],
   "source": [
    "import pandas as pd\n",
    "import numpy as np\n",
    "from sklearn.feature_extraction.text import TfidfVectorizer"
   ]
  },
  {
   "cell_type": "code",
   "execution_count": 2,
   "metadata": {
    "execution": {
     "iopub.execute_input": "2021-03-22T10:31:00.567751Z",
     "iopub.status.busy": "2021-03-22T10:31:00.566881Z",
     "iopub.status.idle": "2021-03-22T10:31:00.586214Z",
     "shell.execute_reply": "2021-03-22T10:31:00.586984Z"
    },
    "papermill": {
     "duration": 0.036725,
     "end_time": "2021-03-22T10:31:00.587228",
     "exception": false,
     "start_time": "2021-03-22T10:31:00.550503",
     "status": "completed"
    },
    "tags": []
   },
   "outputs": [
    {
     "name": "stdout",
     "output_type": "stream",
     "text": [
      "['ratings.csv', 'movies_metadata.csv']\n"
     ]
    }
   ],
   "source": [
    "import os\n",
    "print(os.listdir(\"../input/t-academy-recommendation2/movies/\"))"
   ]
  },
  {
   "cell_type": "code",
   "execution_count": 3,
   "metadata": {
    "execution": {
     "iopub.execute_input": "2021-03-22T10:31:00.616203Z",
     "iopub.status.busy": "2021-03-22T10:31:00.615445Z",
     "iopub.status.idle": "2021-03-22T10:31:00.620311Z",
     "shell.execute_reply": "2021-03-22T10:31:00.619625Z"
    },
    "papermill": {
     "duration": 0.020087,
     "end_time": "2021-03-22T10:31:00.620432",
     "exception": false,
     "start_time": "2021-03-22T10:31:00.600345",
     "status": "completed"
    },
    "tags": []
   },
   "outputs": [],
   "source": [
    "# 경로의 경우 각자의 환경에 맞게 설정해주면 됩니다. \n",
    "path = '../input/t-academy-recommendation2/movies/'"
   ]
  },
  {
   "cell_type": "code",
   "execution_count": 4,
   "metadata": {
    "execution": {
     "iopub.execute_input": "2021-03-22T10:31:00.650377Z",
     "iopub.status.busy": "2021-03-22T10:31:00.649680Z",
     "iopub.status.idle": "2021-03-22T10:31:02.182771Z",
     "shell.execute_reply": "2021-03-22T10:31:02.180470Z"
    },
    "papermill": {
     "duration": 1.551279,
     "end_time": "2021-03-22T10:31:02.183120",
     "exception": false,
     "start_time": "2021-03-22T10:31:00.631841",
     "status": "completed"
    },
    "tags": []
   },
   "outputs": [
    {
     "data": {
      "text/html": [
       "<div>\n",
       "<style scoped>\n",
       "    .dataframe tbody tr th:only-of-type {\n",
       "        vertical-align: middle;\n",
       "    }\n",
       "\n",
       "    .dataframe tbody tr th {\n",
       "        vertical-align: top;\n",
       "    }\n",
       "\n",
       "    .dataframe thead th {\n",
       "        text-align: right;\n",
       "    }\n",
       "</style>\n",
       "<table border=\"1\" class=\"dataframe\">\n",
       "  <thead>\n",
       "    <tr style=\"text-align: right;\">\n",
       "      <th></th>\n",
       "      <th>adult</th>\n",
       "      <th>belongs_to_collection</th>\n",
       "      <th>budget</th>\n",
       "      <th>genres</th>\n",
       "      <th>homepage</th>\n",
       "      <th>id</th>\n",
       "      <th>imdb_id</th>\n",
       "      <th>original_language</th>\n",
       "      <th>original_title</th>\n",
       "      <th>overview</th>\n",
       "      <th>...</th>\n",
       "      <th>release_date</th>\n",
       "      <th>revenue</th>\n",
       "      <th>runtime</th>\n",
       "      <th>spoken_languages</th>\n",
       "      <th>status</th>\n",
       "      <th>tagline</th>\n",
       "      <th>title</th>\n",
       "      <th>video</th>\n",
       "      <th>vote_average</th>\n",
       "      <th>vote_count</th>\n",
       "    </tr>\n",
       "  </thead>\n",
       "  <tbody>\n",
       "    <tr>\n",
       "      <th>0</th>\n",
       "      <td>False</td>\n",
       "      <td>{'id': 10194, 'name': 'Toy Story Collection', ...</td>\n",
       "      <td>30000000</td>\n",
       "      <td>[{'id': 16, 'name': 'Animation'}, {'id': 35, '...</td>\n",
       "      <td>http://toystory.disney.com/toy-story</td>\n",
       "      <td>862</td>\n",
       "      <td>tt0114709</td>\n",
       "      <td>en</td>\n",
       "      <td>Toy Story</td>\n",
       "      <td>Led by Woody, Andy's toys live happily in his ...</td>\n",
       "      <td>...</td>\n",
       "      <td>1995-10-30</td>\n",
       "      <td>373554033.0</td>\n",
       "      <td>81.0</td>\n",
       "      <td>[{'iso_639_1': 'en', 'name': 'English'}]</td>\n",
       "      <td>Released</td>\n",
       "      <td>NaN</td>\n",
       "      <td>Toy Story</td>\n",
       "      <td>False</td>\n",
       "      <td>7.7</td>\n",
       "      <td>5415.0</td>\n",
       "    </tr>\n",
       "    <tr>\n",
       "      <th>1</th>\n",
       "      <td>False</td>\n",
       "      <td>NaN</td>\n",
       "      <td>65000000</td>\n",
       "      <td>[{'id': 12, 'name': 'Adventure'}, {'id': 14, '...</td>\n",
       "      <td>NaN</td>\n",
       "      <td>8844</td>\n",
       "      <td>tt0113497</td>\n",
       "      <td>en</td>\n",
       "      <td>Jumanji</td>\n",
       "      <td>When siblings Judy and Peter discover an encha...</td>\n",
       "      <td>...</td>\n",
       "      <td>1995-12-15</td>\n",
       "      <td>262797249.0</td>\n",
       "      <td>104.0</td>\n",
       "      <td>[{'iso_639_1': 'en', 'name': 'English'}, {'iso...</td>\n",
       "      <td>Released</td>\n",
       "      <td>Roll the dice and unleash the excitement!</td>\n",
       "      <td>Jumanji</td>\n",
       "      <td>False</td>\n",
       "      <td>6.9</td>\n",
       "      <td>2413.0</td>\n",
       "    </tr>\n",
       "  </tbody>\n",
       "</table>\n",
       "<p>2 rows × 24 columns</p>\n",
       "</div>"
      ],
      "text/plain": [
       "   adult                              belongs_to_collection    budget  \\\n",
       "0  False  {'id': 10194, 'name': 'Toy Story Collection', ...  30000000   \n",
       "1  False                                                NaN  65000000   \n",
       "\n",
       "                                              genres  \\\n",
       "0  [{'id': 16, 'name': 'Animation'}, {'id': 35, '...   \n",
       "1  [{'id': 12, 'name': 'Adventure'}, {'id': 14, '...   \n",
       "\n",
       "                               homepage    id    imdb_id original_language  \\\n",
       "0  http://toystory.disney.com/toy-story   862  tt0114709                en   \n",
       "1                                   NaN  8844  tt0113497                en   \n",
       "\n",
       "  original_title                                           overview  ...  \\\n",
       "0      Toy Story  Led by Woody, Andy's toys live happily in his ...  ...   \n",
       "1        Jumanji  When siblings Judy and Peter discover an encha...  ...   \n",
       "\n",
       "  release_date      revenue runtime  \\\n",
       "0   1995-10-30  373554033.0    81.0   \n",
       "1   1995-12-15  262797249.0   104.0   \n",
       "\n",
       "                                    spoken_languages    status  \\\n",
       "0           [{'iso_639_1': 'en', 'name': 'English'}]  Released   \n",
       "1  [{'iso_639_1': 'en', 'name': 'English'}, {'iso...  Released   \n",
       "\n",
       "                                     tagline      title  video vote_average  \\\n",
       "0                                        NaN  Toy Story  False          7.7   \n",
       "1  Roll the dice and unleash the excitement!    Jumanji  False          6.9   \n",
       "\n",
       "  vote_count  \n",
       "0     5415.0  \n",
       "1     2413.0  \n",
       "\n",
       "[2 rows x 24 columns]"
      ]
     },
     "execution_count": 4,
     "metadata": {},
     "output_type": "execute_result"
    }
   ],
   "source": [
    "data = pd.read_csv(path + 'movies_metadata.csv', low_memory=False)\n",
    "data.head(2)"
   ]
  },
  {
   "cell_type": "code",
   "execution_count": 5,
   "metadata": {
    "execution": {
     "iopub.execute_input": "2021-03-22T10:31:02.227202Z",
     "iopub.status.busy": "2021-03-22T10:31:02.225804Z",
     "iopub.status.idle": "2021-03-22T10:31:02.232211Z",
     "shell.execute_reply": "2021-03-22T10:31:02.232796Z"
    },
    "papermill": {
     "duration": 0.035525,
     "end_time": "2021-03-22T10:31:02.233046",
     "exception": false,
     "start_time": "2021-03-22T10:31:02.197521",
     "status": "completed"
    },
    "tags": []
   },
   "outputs": [
    {
     "data": {
      "text/plain": [
       "Index(['adult', 'belongs_to_collection', 'budget', 'genres', 'homepage', 'id',\n",
       "       'imdb_id', 'original_language', 'original_title', 'overview',\n",
       "       'popularity', 'poster_path', 'production_companies',\n",
       "       'production_countries', 'release_date', 'revenue', 'runtime',\n",
       "       'spoken_languages', 'status', 'tagline', 'title', 'video',\n",
       "       'vote_average', 'vote_count'],\n",
       "      dtype='object')"
      ]
     },
     "execution_count": 5,
     "metadata": {},
     "output_type": "execute_result"
    }
   ],
   "source": [
    "# overview의 항목 추출 \n",
    "data.columns"
   ]
  },
  {
   "cell_type": "code",
   "execution_count": 6,
   "metadata": {
    "execution": {
     "iopub.execute_input": "2021-03-22T10:31:02.289529Z",
     "iopub.status.busy": "2021-03-22T10:31:02.288333Z",
     "iopub.status.idle": "2021-03-22T10:31:02.350129Z",
     "shell.execute_reply": "2021-03-22T10:31:02.351299Z"
    },
    "papermill": {
     "duration": 0.100279,
     "end_time": "2021-03-22T10:31:02.351630",
     "exception": false,
     "start_time": "2021-03-22T10:31:02.251351",
     "status": "completed"
    },
    "tags": []
   },
   "outputs": [
    {
     "data": {
      "text/plain": [
       "(44512, 24)"
      ]
     },
     "execution_count": 6,
     "metadata": {},
     "output_type": "execute_result"
    }
   ],
   "source": [
    "# 전처리 \n",
    "# overview의 결측치가 있는 항목은 모두 제거 \n",
    "data = data[data['overview'].notnull()].reset_index(drop=True)\n",
    "data.shape"
   ]
  },
  {
   "cell_type": "code",
   "execution_count": 7,
   "metadata": {
    "execution": {
     "iopub.execute_input": "2021-03-22T10:31:02.413558Z",
     "iopub.status.busy": "2021-03-22T10:31:02.412520Z",
     "iopub.status.idle": "2021-03-22T10:31:02.417048Z",
     "shell.execute_reply": "2021-03-22T10:31:02.416243Z"
    },
    "papermill": {
     "duration": 0.045803,
     "end_time": "2021-03-22T10:31:02.417186",
     "exception": false,
     "start_time": "2021-03-22T10:31:02.371383",
     "status": "completed"
    },
    "tags": []
   },
   "outputs": [],
   "source": [
    "data = data.loc[0:20000].reset_index(drop=True)"
   ]
  },
  {
   "cell_type": "code",
   "execution_count": 8,
   "metadata": {
    "execution": {
     "iopub.execute_input": "2021-03-22T10:31:02.462633Z",
     "iopub.status.busy": "2021-03-22T10:31:02.461295Z",
     "iopub.status.idle": "2021-03-22T10:31:04.137786Z",
     "shell.execute_reply": "2021-03-22T10:31:04.138429Z"
    },
    "papermill": {
     "duration": 1.703587,
     "end_time": "2021-03-22T10:31:04.138627",
     "exception": false,
     "start_time": "2021-03-22T10:31:02.435040",
     "status": "completed"
    },
    "tags": []
   },
   "outputs": [
    {
     "name": "stdout",
     "output_type": "stream",
     "text": [
      "(20001, 47665)\n"
     ]
    }
   ],
   "source": [
    "# 불용어 : 유의미하지 않은 단어 토큰을 제거 \n",
    "# https://wikidocs.net/22530\n",
    "tfidf = TfidfVectorizer(stop_words='english')\n",
    "\n",
    "# overview에 대해서 tf-idf 수행\n",
    "tfidf_matrix = tfidf.fit_transform(data['overview'])\n",
    "print(tfidf_matrix.shape)"
   ]
  },
  {
   "cell_type": "code",
   "execution_count": 9,
   "metadata": {
    "execution": {
     "iopub.execute_input": "2021-03-22T10:31:04.173082Z",
     "iopub.status.busy": "2021-03-22T10:31:04.172299Z",
     "iopub.status.idle": "2021-03-22T10:31:12.407990Z",
     "shell.execute_reply": "2021-03-22T10:31:12.408490Z"
    },
    "papermill": {
     "duration": 8.25602,
     "end_time": "2021-03-22T10:31:12.408698",
     "exception": false,
     "start_time": "2021-03-22T10:31:04.152678",
     "status": "completed"
    },
    "tags": []
   },
   "outputs": [],
   "source": [
    "from sklearn.metrics.pairwise import cosine_similarity\n",
    "cosine_matrix = cosine_similarity(tfidf_matrix, tfidf_matrix)\n",
    "\n",
    "# 만일 여기서 메모리 에러가 발생하신 분은 TF-IDF의 파라미터를 수정해줘서 다시 돌리면 됩니다. \n",
    "# tfidf = TfidfVectorizer(stop_words='english', max_features=10000)\n",
    "\n",
    "# 그래도, 안되는 경우에는 문서의 수를 조금 줄여서 실행해보시길 바랍니다. \n",
    "# data = data.loc[0:10000].reset_index(drop=True)"
   ]
  },
  {
   "cell_type": "code",
   "execution_count": 10,
   "metadata": {
    "execution": {
     "iopub.execute_input": "2021-03-22T10:31:12.443596Z",
     "iopub.status.busy": "2021-03-22T10:31:12.442526Z",
     "iopub.status.idle": "2021-03-22T10:31:12.448090Z",
     "shell.execute_reply": "2021-03-22T10:31:12.447427Z"
    },
    "papermill": {
     "duration": 0.025507,
     "end_time": "2021-03-22T10:31:12.448222",
     "exception": false,
     "start_time": "2021-03-22T10:31:12.422715",
     "status": "completed"
    },
    "tags": []
   },
   "outputs": [
    {
     "data": {
      "text/plain": [
       "(20001, 20001)"
      ]
     },
     "execution_count": 10,
     "metadata": {},
     "output_type": "execute_result"
    }
   ],
   "source": [
    "cosine_matrix.shape"
   ]
  },
  {
   "cell_type": "code",
   "execution_count": 11,
   "metadata": {
    "execution": {
     "iopub.execute_input": "2021-03-22T10:31:12.485108Z",
     "iopub.status.busy": "2021-03-22T10:31:12.483021Z",
     "iopub.status.idle": "2021-03-22T10:31:15.279683Z",
     "shell.execute_reply": "2021-03-22T10:31:15.278990Z"
    },
    "papermill": {
     "duration": 2.817258,
     "end_time": "2021-03-22T10:31:15.279812",
     "exception": false,
     "start_time": "2021-03-22T10:31:12.462554",
     "status": "completed"
    },
    "tags": []
   },
   "outputs": [
    {
     "data": {
      "text/plain": [
       "array([[1.    , 0.0158, 0.    , ..., 0.0083, 0.0172, 0.    ],\n",
       "       [0.0158, 1.    , 0.0492, ..., 0.0057, 0.008 , 0.    ],\n",
       "       [0.    , 0.0492, 1.    , ..., 0.    , 0.    , 0.    ],\n",
       "       ...,\n",
       "       [0.0083, 0.0057, 0.    , ..., 1.    , 0.0144, 0.    ],\n",
       "       [0.0172, 0.008 , 0.    , ..., 0.0144, 1.    , 0.0183],\n",
       "       [0.    , 0.    , 0.    , ..., 0.    , 0.0183, 1.    ]])"
      ]
     },
     "execution_count": 11,
     "metadata": {},
     "output_type": "execute_result"
    }
   ],
   "source": [
    "np.round(cosine_matrix, 4)"
   ]
  },
  {
   "cell_type": "code",
   "execution_count": 12,
   "metadata": {
    "execution": {
     "iopub.execute_input": "2021-03-22T10:31:15.334064Z",
     "iopub.status.busy": "2021-03-22T10:31:15.333297Z",
     "iopub.status.idle": "2021-03-22T10:31:15.337030Z",
     "shell.execute_reply": "2021-03-22T10:31:15.337512Z"
    },
    "papermill": {
     "duration": 0.04262,
     "end_time": "2021-03-22T10:31:15.337706",
     "exception": false,
     "start_time": "2021-03-22T10:31:15.295086",
     "status": "completed"
    },
    "tags": []
   },
   "outputs": [],
   "source": [
    "# movie title와 id를 매핑할 dictionary를 생성해줍니다. \n",
    "movie2id = {}\n",
    "for i, c in enumerate(data['title']): movie2id[i] = c\n",
    "\n",
    "# id와 movie title를 매핑할 dictionary를 생성해줍니다. \n",
    "id2movie = {}\n",
    "for i, c in movie2id.items(): id2movie[c] = i"
   ]
  },
  {
   "cell_type": "code",
   "execution_count": 13,
   "metadata": {
    "execution": {
     "iopub.execute_input": "2021-03-22T10:31:15.398186Z",
     "iopub.status.busy": "2021-03-22T10:31:15.382654Z",
     "iopub.status.idle": "2021-03-22T10:31:15.405725Z",
     "shell.execute_reply": "2021-03-22T10:31:15.404993Z"
    },
    "papermill": {
     "duration": 0.052914,
     "end_time": "2021-03-22T10:31:15.405883",
     "exception": false,
     "start_time": "2021-03-22T10:31:15.352969",
     "status": "completed"
    },
    "tags": []
   },
   "outputs": [
    {
     "data": {
      "text/plain": [
       "[(15282, 0.5262275451171008),\n",
       " (2979, 0.463276799830381),\n",
       " (10271, 0.2797390476075632),\n",
       " (8303, 0.20078538664316947),\n",
       " (1058, 0.18287334034120212),\n",
       " (11367, 0.15712074193481165),\n",
       " (1916, 0.15288512626542436),\n",
       " (3039, 0.1433450408051554),\n",
       " (483, 0.13765225108436677),\n",
       " (11573, 0.1337032693869044)]"
      ]
     },
     "execution_count": 13,
     "metadata": {},
     "output_type": "execute_result"
    }
   ],
   "source": [
    "# Toy Story의 id 추출 \n",
    "idx = id2movie['Toy Story'] # Toy Story : 0번 인덱스 \n",
    "sim_scores = [(i, c) for i, c in enumerate(cosine_matrix[idx]) if i != idx] # 자기 자신을 제외한 영화들의 유사도 및 인덱스를 추출 \n",
    "sim_scores = sorted(sim_scores, key = lambda x: x[1], reverse=True) # 유사도가 높은 순서대로 정렬 \n",
    "sim_scores[0:10] # 상위 10개의 인덱스와 유사도를 추출 "
   ]
  },
  {
   "cell_type": "code",
   "execution_count": 14,
   "metadata": {
    "execution": {
     "iopub.execute_input": "2021-03-22T10:31:15.451498Z",
     "iopub.status.busy": "2021-03-22T10:31:15.450782Z",
     "iopub.status.idle": "2021-03-22T10:31:15.455515Z",
     "shell.execute_reply": "2021-03-22T10:31:15.454949Z"
    },
    "papermill": {
     "duration": 0.033931,
     "end_time": "2021-03-22T10:31:15.455668",
     "exception": false,
     "start_time": "2021-03-22T10:31:15.421737",
     "status": "completed"
    },
    "tags": []
   },
   "outputs": [
    {
     "data": {
      "text/plain": [
       "[('Toy Story 3', 0.5262275451171008),\n",
       " ('Toy Story 2', 0.463276799830381),\n",
       " ('The 40 Year Old Virgin', 0.2797390476075632),\n",
       " ('The Champ', 0.20078538664316947),\n",
       " ('Rebel Without a Cause', 0.18287334034120212),\n",
       " ('For Your Consideration', 0.15712074193481165),\n",
       " ('Condorman', 0.15288512626542436),\n",
       " ('Man on the Moon', 0.1433450408051554),\n",
       " ('Malice', 0.13765225108436677),\n",
       " ('Factory Girl', 0.1337032693869044)]"
      ]
     },
     "execution_count": 14,
     "metadata": {},
     "output_type": "execute_result"
    }
   ],
   "source": [
    "sim_scores = [(movie2id[i], score) for i, score in sim_scores[0:10]]\n",
    "sim_scores"
   ]
  }
 ],
 "metadata": {
  "kernelspec": {
   "display_name": "Python 3",
   "language": "python",
   "name": "python3"
  },
  "language_info": {
   "codemirror_mode": {
    "name": "ipython",
    "version": 3
   },
   "file_extension": ".py",
   "mimetype": "text/x-python",
   "name": "python",
   "nbconvert_exporter": "python",
   "pygments_lexer": "ipython3",
   "version": "3.7.6"
  },
  "papermill": {
   "duration": 21.687137,
   "end_time": "2021-03-22T10:31:15.681509",
   "environment_variables": {},
   "exception": null,
   "input_path": "__notebook__.ipynb",
   "output_path": "__notebook__.ipynb",
   "parameters": {},
   "start_time": "2021-03-22T10:30:53.994372",
   "version": "2.1.0"
  }
 },
 "nbformat": 4,
 "nbformat_minor": 4
}
