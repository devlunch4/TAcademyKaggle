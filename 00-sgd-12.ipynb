{
 "cells": [
  {
   "cell_type": "markdown",
   "metadata": {
    "papermill": {
     "duration": 0.016642,
     "end_time": "2021-03-24T12:58:40.835063",
     "exception": false,
     "start_time": "2021-03-24T12:58:40.818421",
     "status": "completed"
    },
    "tags": []
   },
   "source": [
    "# Base code : https://yamalab.tistory.com/92"
   ]
  },
  {
   "cell_type": "code",
   "execution_count": 1,
   "metadata": {
    "execution": {
     "iopub.execute_input": "2021-03-24T12:58:40.904048Z",
     "iopub.status.busy": "2021-03-24T12:58:40.902898Z",
     "iopub.status.idle": "2021-03-24T12:58:40.906352Z",
     "shell.execute_reply": "2021-03-24T12:58:40.905870Z"
    },
    "papermill": {
     "duration": 0.055372,
     "end_time": "2021-03-24T12:58:40.906474",
     "exception": false,
     "start_time": "2021-03-24T12:58:40.851102",
     "status": "completed"
    },
    "tags": []
   },
   "outputs": [],
   "source": [
    "import numpy as np\n",
    "from tqdm import tqdm_notebook as tqdm\n",
    "\n",
    "import numpy as np\n",
    "\n",
    "# Base code : https://yamalab.tistory.com/92\n",
    "class MatrixFactorization():\n",
    "    def __init__(self, R, k, learning_rate, reg_param, epochs, verbose=False):\n",
    "        \"\"\"\n",
    "        :param R: rating matrix\n",
    "        :param k: latent parameter\n",
    "        :param learning_rate: alpha on weight update\n",
    "        :param reg_param: beta on weight update\n",
    "        :param epochs: training epochs\n",
    "        :param verbose: print status\n",
    "        \"\"\"\n",
    "        self._R = R\n",
    "        self._num_users, self._num_items = R.shape\n",
    "        self._k = k\n",
    "        self._learning_rate = learning_rate\n",
    "        self._reg_param = reg_param\n",
    "        self._epochs = epochs\n",
    "        self._verbose = verbose\n",
    "\n",
    "\n",
    "    def fit(self):\n",
    "        \"\"\"\n",
    "        training Matrix Factorization : Update matrix latent weight and bias\n",
    "\n",
    "        참고: self._b에 대한 설명\n",
    "        - global bias: input R에서 평가가 매겨진 rating의 평균값을 global bias로 사용\n",
    "        - 정규화 기능. 최종 rating에 음수가 들어가는 것 대신 latent feature에 음수가 포함되도록 해줌.\n",
    "\n",
    "        :return: training_process\n",
    "        \"\"\"\n",
    "\n",
    "        # init latent features\n",
    "        self._P = np.random.normal(size=(self._num_users, self._k))\n",
    "        self._Q = np.random.normal(size=(self._num_items, self._k))\n",
    "\n",
    "        # init biases\n",
    "        self._b_P = np.zeros(self._num_users)\n",
    "        self._b_Q = np.zeros(self._num_items)\n",
    "        self._b = np.mean(self._R[np.where(self._R != 0)])\n",
    "\n",
    "        # train while epochs\n",
    "        self._training_process = []\n",
    "        for epoch in range(self._epochs):\n",
    "            # rating이 존재하는 index를 기준으로 training\n",
    "            xi, yi = self._R.nonzero()\n",
    "            for i, j in zip(xi, yi):\n",
    "                self.gradient_descent(i, j, self._R[i, j])\n",
    "            cost = self.cost()\n",
    "            self._training_process.append((epoch, cost))\n",
    "\n",
    "            # print status\n",
    "            if self._verbose == True and ((epoch + 1) % 10 == 0):\n",
    "                print(\"Iteration: %d ; cost = %.4f\" % (epoch + 1, cost))\n",
    "\n",
    "\n",
    "    def cost(self):\n",
    "        \"\"\"\n",
    "        compute root mean square error\n",
    "        :return: rmse cost\n",
    "        \"\"\"\n",
    "\n",
    "        # xi, yi: R[xi, yi]는 nonzero인 value를 의미한다.\n",
    "        # 참고: http://codepractice.tistory.com/90\n",
    "        xi, yi = self._R.nonzero()\n",
    "        # predicted = self.get_complete_matrix()\n",
    "        cost = 0\n",
    "        for x, y in zip(xi, yi):\n",
    "            cost += pow(self._R[x, y] - self.get_prediction(x, y), 2)\n",
    "        return np.sqrt(cost/len(xi))\n",
    "\n",
    "\n",
    "    def gradient(self, error, i, j):\n",
    "        \"\"\"\n",
    "        gradient of latent feature for GD\n",
    "\n",
    "        :param error: rating - prediction error\n",
    "        :param i: user index\n",
    "        :param j: item index\n",
    "        :return: gradient of latent feature tuple\n",
    "        \"\"\"\n",
    "\n",
    "        dp = (error * self._Q[j, :]) - (self._reg_param * self._P[i, :])\n",
    "        dq = (error * self._P[i, :]) - (self._reg_param * self._Q[j, :])\n",
    "        return dp, dq\n",
    "\n",
    "\n",
    "    def gradient_descent(self, i, j, rating):\n",
    "        \"\"\"\n",
    "        graident descent function\n",
    "\n",
    "        :param i: user index of matrix\n",
    "        :param j: item index of matrix\n",
    "        :param rating: rating of (i,j)\n",
    "        \"\"\"\n",
    "\n",
    "        # get error\n",
    "        prediction = self.get_prediction(i, j)\n",
    "        error = rating - prediction\n",
    "\n",
    "        # update biases\n",
    "        self._b_P[i] += self._learning_rate * (error - self._reg_param * self._b_P[i])\n",
    "        self._b_Q[j] += self._learning_rate * (error - self._reg_param * self._b_Q[j])\n",
    "\n",
    "        # update latent feature\n",
    "        dp, dq = self.gradient(error, i, j)\n",
    "        self._P[i, :] += self._learning_rate * dp\n",
    "        self._Q[j, :] += self._learning_rate * dq\n",
    "\n",
    "\n",
    "    def get_prediction(self, i, j):\n",
    "        \"\"\"\n",
    "        get predicted rating: user_i, item_j\n",
    "        :return: prediction of r_ij\n",
    "        \"\"\"\n",
    "        return self._b + self._b_P[i] + self._b_Q[j] + self._P[i, :].dot(self._Q[j, :].T)\n",
    "\n",
    "\n",
    "    def get_complete_matrix(self):\n",
    "        \"\"\"\n",
    "        computer complete matrix PXQ + P.bias + Q.bias + global bias\n",
    "\n",
    "        - PXQ 행렬에 b_P[:, np.newaxis]를 더하는 것은 각 열마다 bias를 더해주는 것\n",
    "        - b_Q[np.newaxis:, ]를 더하는 것은 각 행마다 bias를 더해주는 것\n",
    "        - b를 더하는 것은 각 element마다 bias를 더해주는 것\n",
    "\n",
    "        - newaxis: 차원을 추가해줌. 1차원인 Latent들로 2차원의 R에 행/열 단위 연산을 해주기위해 차원을 추가하는 것.\n",
    "\n",
    "        :return: complete matrix R^\n",
    "        \"\"\"\n",
    "        return self._b + self._b_P[:, np.newaxis] + self._b_Q[np.newaxis:, ] + self._P.dot(self._Q.T)\n",
    "\n",
    "\n",
    "\n",
    "# run example\n",
    "if __name__ == \"__main__\":\n",
    "    # rating matrix - User X Item : (7 X 5)\n",
    "    R = np.array([\n",
    "        [1, 0, 0, 1, 3],\n",
    "        [2, 0, 3, 1, 1],\n",
    "        [1, 2, 0, 5, 0],\n",
    "        [1, 0, 0, 4, 4],\n",
    "        [2, 1, 5, 4, 0],\n",
    "        [5, 1, 5, 4, 0],\n",
    "        [0, 0, 0, 1, 0],\n",
    "    ])\n",
    "\n",
    "    # P, Q is (7 X k), (k X 5) matrix"
   ]
  },
  {
   "cell_type": "code",
   "execution_count": 2,
   "metadata": {
    "execution": {
     "iopub.execute_input": "2021-03-24T12:58:40.945713Z",
     "iopub.status.busy": "2021-03-24T12:58:40.945069Z",
     "iopub.status.idle": "2021-03-24T12:58:41.083336Z",
     "shell.execute_reply": "2021-03-24T12:58:41.082608Z"
    },
    "papermill": {
     "duration": 0.161216,
     "end_time": "2021-03-24T12:58:41.083473",
     "exception": false,
     "start_time": "2021-03-24T12:58:40.922257",
     "status": "completed"
    },
    "tags": []
   },
   "outputs": [
    {
     "name": "stdout",
     "output_type": "stream",
     "text": [
      "Iteration: 10 ; cost = 1.1931\n",
      "Iteration: 20 ; cost = 0.8370\n",
      "Iteration: 30 ; cost = 0.6874\n",
      "Iteration: 40 ; cost = 0.6042\n",
      "Iteration: 50 ; cost = 0.5502\n",
      "Iteration: 60 ; cost = 0.5112\n",
      "Iteration: 70 ; cost = 0.4806\n",
      "Iteration: 80 ; cost = 0.4554\n",
      "Iteration: 90 ; cost = 0.4339\n",
      "Iteration: 100 ; cost = 0.4154\n",
      "CPU times: user 124 ms, sys: 41.7 ms, total: 165 ms\n",
      "Wall time: 134 ms\n"
     ]
    }
   ],
   "source": [
    "%%time\n",
    "factorizer = MatrixFactorization(R, k=3, learning_rate=0.01, reg_param=0.01, epochs=100, verbose=True)\n",
    "factorizer.fit()"
   ]
  },
  {
   "cell_type": "code",
   "execution_count": 3,
   "metadata": {
    "execution": {
     "iopub.execute_input": "2021-03-24T12:58:41.121652Z",
     "iopub.status.busy": "2021-03-24T12:58:41.121010Z",
     "iopub.status.idle": "2021-03-24T12:58:41.152238Z",
     "shell.execute_reply": "2021-03-24T12:58:41.151605Z"
    },
    "papermill": {
     "duration": 0.051712,
     "end_time": "2021-03-24T12:58:41.152342",
     "exception": false,
     "start_time": "2021-03-24T12:58:41.100630",
     "status": "completed"
    },
    "tags": []
   },
   "outputs": [
    {
     "data": {
      "text/plain": [
       "array([[1.07988042, 2.19832705, 3.29311299, 1.06928254, 2.75037451],\n",
       "       [2.01121311, 0.16799448, 3.17795866, 0.98986751, 1.01832605],\n",
       "       [0.88465642, 1.99116382, 1.32631726, 5.01041732, 1.40039664],\n",
       "       [1.53225639, 0.75402083, 3.61772363, 3.81888756, 3.98954793],\n",
       "       [2.93509083, 1.06965058, 4.31089136, 3.71402886, 3.23916168],\n",
       "       [3.77506903, 0.94936218, 5.5434356 , 4.35533427, 4.62588723],\n",
       "       [1.49568804, 2.55736726, 4.61122412, 1.00330267, 4.57498348]])"
      ]
     },
     "execution_count": 3,
     "metadata": {},
     "output_type": "execute_result"
    }
   ],
   "source": [
    "factorizer.get_complete_matrix()"
   ]
  },
  {
   "cell_type": "markdown",
   "metadata": {
    "papermill": {
     "duration": 0.016632,
     "end_time": "2021-03-24T12:58:41.186207",
     "exception": false,
     "start_time": "2021-03-24T12:58:41.169575",
     "status": "completed"
    },
    "tags": []
   },
   "source": [
    "## 코드의 Step by Step 설명"
   ]
  },
  {
   "cell_type": "markdown",
   "metadata": {
    "papermill": {
     "duration": 0.016451,
     "end_time": "2021-03-24T12:58:41.219336",
     "exception": false,
     "start_time": "2021-03-24T12:58:41.202885",
     "status": "completed"
    },
    "tags": []
   },
   "source": [
    "기본적인 구조는 위와 같습니다. 한번 __init__ 부터 차근차근 코드의 설명을 시작하겠습니다."
   ]
  },
  {
   "cell_type": "code",
   "execution_count": 4,
   "metadata": {
    "execution": {
     "iopub.execute_input": "2021-03-24T12:58:41.259988Z",
     "iopub.status.busy": "2021-03-24T12:58:41.259312Z",
     "iopub.status.idle": "2021-03-24T12:58:41.262436Z",
     "shell.execute_reply": "2021-03-24T12:58:41.261708Z"
    },
    "papermill": {
     "duration": 0.026549,
     "end_time": "2021-03-24T12:58:41.262546",
     "exception": false,
     "start_time": "2021-03-24T12:58:41.235997",
     "status": "completed"
    },
    "tags": []
   },
   "outputs": [],
   "source": [
    "class MatrixFactorization():\n",
    "    def __init__(self, R, k, learning_rate, reg_param, epochs, verbose=False):\n",
    "        \"\"\"\n",
    "        :param R: rating matrix\n",
    "        :param k: latent parameter\n",
    "        :param learning_rate: alpha on weight update\n",
    "        :param reg_param: beta on weight update\n",
    "        :param epochs: training epochs\n",
    "        :param verbose: print status\n",
    "        \"\"\"\n",
    "        self._R = R\n",
    "        self._num_users, self._num_items = R.shape\n",
    "        self._k = k\n",
    "        self._learning_rate = learning_rate\n",
    "        self._reg_param = reg_param\n",
    "        self._epochs = epochs\n",
    "        self._verbose = verbose"
   ]
  },
  {
   "cell_type": "markdown",
   "metadata": {
    "papermill": {
     "duration": 0.017379,
     "end_time": "2021-03-24T12:58:41.296893",
     "exception": false,
     "start_time": "2021-03-24T12:58:41.279514",
     "status": "completed"
    },
    "tags": []
   },
   "source": [
    "일단, __init__ 함수는 Matrix Factorization이라는 클래스가 호출될 때 자동으로 실행되는 부분입니다. 파라미터로는 6개의 인자를 받는데 각각 아래의 의미를 가집니다.\n",
    "\n",
    "- R: 평점 행렬\n",
    "- k: User Latent와 Item Latent의 차원의 수\n",
    "- learning_rate: 학습률\n",
    "- reg_param: Weight의 Regularization 값\n",
    "- epochs: 전체 학습 횟수 (Total Epoch)\n",
    "- verbose: 학습 과정을 출력할지 여부 (True : 10번마다 cost 출력, False : cost를 출력하지 않음)"
   ]
  },
  {
   "cell_type": "code",
   "execution_count": 5,
   "metadata": {
    "execution": {
     "iopub.execute_input": "2021-03-24T12:58:41.338211Z",
     "iopub.status.busy": "2021-03-24T12:58:41.337556Z",
     "iopub.status.idle": "2021-03-24T12:58:41.365392Z",
     "shell.execute_reply": "2021-03-24T12:58:41.364719Z"
    },
    "papermill": {
     "duration": 0.051557,
     "end_time": "2021-03-24T12:58:41.365501",
     "exception": false,
     "start_time": "2021-03-24T12:58:41.313944",
     "status": "completed"
    },
    "tags": []
   },
   "outputs": [
    {
     "ename": "AttributeError",
     "evalue": "'MatrixFactorization' object has no attribute 'fit'",
     "output_type": "error",
     "traceback": [
      "\u001b[0;31m---------------------------------------------------------------------------\u001b[0m",
      "\u001b[0;31mAttributeError\u001b[0m                            Traceback (most recent call last)",
      "\u001b[0;32m<timed exec>\u001b[0m in \u001b[0;36m<module>\u001b[0;34m\u001b[0m\n",
      "\u001b[0;31mAttributeError\u001b[0m: 'MatrixFactorization' object has no attribute 'fit'"
     ]
    }
   ],
   "source": [
    "%%time\n",
    "\n",
    "R = np.array([\n",
    "    [1, 0, 0, 1, 3],\n",
    "    [2, 0, 3, 1, 1],\n",
    "    [1, 2, 0, 5, 0],\n",
    "    [1, 0, 0, 4, 4],\n",
    "    [2, 1, 5, 4, 0],\n",
    "    [5, 1, 5, 4, 0],\n",
    "    [0, 0, 0, 1, 0],\n",
    "])\n",
    "\n",
    "factorizer = MatrixFactorization(R, k=3, learning_rate=0.01, reg_param=0.01, epochs=100, verbose=True)\n",
    "factorizer.fit()"
   ]
  },
  {
   "cell_type": "markdown",
   "metadata": {
    "papermill": {
     "duration": 0.017245,
     "end_time": "2021-03-24T12:58:41.400321",
     "exception": false,
     "start_time": "2021-03-24T12:58:41.383076",
     "status": "completed"
    },
    "tags": []
   },
   "source": [
    "위의 실행은 7개의 User, 5개의 Item에 대한 평점 행렬(R)에 대해서 k=3, learning_rate=0.01, reg_param=0.01, epochs=100, verbose=True 와 같은 파라미터를 가지는 MatrixFactorization 객체를 생성하라는 의미입니다. 생성된 객체에서 factorizer.fit()을 통해서 fit() 함수를 실행하면, 아래의 코드가 실행되게 됩니다."
   ]
  },
  {
   "cell_type": "code",
   "execution_count": 6,
   "metadata": {
    "execution": {
     "iopub.execute_input": "2021-03-24T12:58:41.449306Z",
     "iopub.status.busy": "2021-03-24T12:58:41.448568Z",
     "iopub.status.idle": "2021-03-24T12:58:41.452434Z",
     "shell.execute_reply": "2021-03-24T12:58:41.451892Z"
    },
    "papermill": {
     "duration": 0.034395,
     "end_time": "2021-03-24T12:58:41.452542",
     "exception": false,
     "start_time": "2021-03-24T12:58:41.418147",
     "status": "completed"
    },
    "tags": []
   },
   "outputs": [],
   "source": [
    "def fit(self):\n",
    "    \"\"\"\n",
    "    training Matrix Factorization : Update matrix latent weight and bias\n",
    "\n",
    "    참고: self._b에 대한 설명\n",
    "    - global bias: input R에서 평가가 매겨진 rating의 평균값을 global bias로 사용\n",
    "    - 정규화 기능. 최종 rating에 음수가 들어가는 것 대신 latent feature에 음수가 포함되도록 해줌.\n",
    "\n",
    "    :return: training_process\n",
    "    \"\"\"\n",
    "\n",
    "    # init latent features\n",
    "    self._P = np.random.normal(size=(self._num_users, self._k))\n",
    "    self._Q = np.random.normal(size=(self._num_items, self._k))\n",
    "\n",
    "    # init biases\n",
    "    self._b_P = np.zeros(self._num_users)\n",
    "    self._b_Q = np.zeros(self._num_items)\n",
    "    self._b = np.mean(self._R[np.where(self._R != 0)])\n",
    "\n",
    "    # train while epochs\n",
    "    self._training_process = []\n",
    "    for epoch in range(self._epochs):\n",
    "        # rating이 존재하는 index를 기준으로 training\n",
    "        xi, yi = self._R.nonzero()\n",
    "        for i, j in zip(xi, yi):\n",
    "            self.gradient_descent(i, j, self._R[i, j])\n",
    "        cost = self.cost()\n",
    "        self._training_process.append((epoch, cost))\n",
    "\n",
    "        # print status\n",
    "        if self._verbose == True and ((epoch + 1) % 10 == 0):\n",
    "            print(\"Iteration: %d ; cost = %.4f\" % (epoch + 1, cost))"
   ]
  },
  {
   "cell_type": "markdown",
   "metadata": {
    "papermill": {
     "duration": 0.017806,
     "end_time": "2021-03-24T12:58:41.488386",
     "exception": false,
     "start_time": "2021-03-24T12:58:41.470580",
     "status": "completed"
    },
    "tags": []
   },
   "source": [
    "fit 함수에서 가장 먼저 실행되는 부분은 아래의 Latent Matrix를 초기화해주는 부분입니다."
   ]
  },
  {
   "cell_type": "code",
   "execution_count": 7,
   "metadata": {
    "execution": {
     "iopub.execute_input": "2021-03-24T12:58:41.531607Z",
     "iopub.status.busy": "2021-03-24T12:58:41.530756Z",
     "iopub.status.idle": "2021-03-24T12:58:41.546037Z",
     "shell.execute_reply": "2021-03-24T12:58:41.545528Z"
    },
    "papermill": {
     "duration": 0.03989,
     "end_time": "2021-03-24T12:58:41.546135",
     "exception": false,
     "start_time": "2021-03-24T12:58:41.506245",
     "status": "completed"
    },
    "tags": []
   },
   "outputs": [
    {
     "ename": "NameError",
     "evalue": "name 'self' is not defined",
     "output_type": "error",
     "traceback": [
      "\u001b[0;31m---------------------------------------------------------------------------\u001b[0m",
      "\u001b[0;31mNameError\u001b[0m                                 Traceback (most recent call last)",
      "\u001b[0;32m<ipython-input-7-09d6ed2d0841>\u001b[0m in \u001b[0;36m<module>\u001b[0;34m\u001b[0m\n\u001b[1;32m      1\u001b[0m \u001b[0;31m# init latent features\u001b[0m\u001b[0;34m\u001b[0m\u001b[0;34m\u001b[0m\u001b[0;34m\u001b[0m\u001b[0m\n\u001b[0;32m----> 2\u001b[0;31m \u001b[0mself\u001b[0m\u001b[0;34m.\u001b[0m\u001b[0m_P\u001b[0m \u001b[0;34m=\u001b[0m \u001b[0mnp\u001b[0m\u001b[0;34m.\u001b[0m\u001b[0mrandom\u001b[0m\u001b[0;34m.\u001b[0m\u001b[0mnormal\u001b[0m\u001b[0;34m(\u001b[0m\u001b[0msize\u001b[0m\u001b[0;34m=\u001b[0m\u001b[0;34m(\u001b[0m\u001b[0mself\u001b[0m\u001b[0;34m.\u001b[0m\u001b[0m_num_users\u001b[0m\u001b[0;34m,\u001b[0m \u001b[0mself\u001b[0m\u001b[0;34m.\u001b[0m\u001b[0m_k\u001b[0m\u001b[0;34m)\u001b[0m\u001b[0;34m)\u001b[0m\u001b[0;34m\u001b[0m\u001b[0;34m\u001b[0m\u001b[0m\n\u001b[0m\u001b[1;32m      3\u001b[0m \u001b[0mself\u001b[0m\u001b[0;34m.\u001b[0m\u001b[0m_Q\u001b[0m \u001b[0;34m=\u001b[0m \u001b[0mnp\u001b[0m\u001b[0;34m.\u001b[0m\u001b[0mrandom\u001b[0m\u001b[0;34m.\u001b[0m\u001b[0mnormal\u001b[0m\u001b[0;34m(\u001b[0m\u001b[0msize\u001b[0m\u001b[0;34m=\u001b[0m\u001b[0;34m(\u001b[0m\u001b[0mself\u001b[0m\u001b[0;34m.\u001b[0m\u001b[0m_num_items\u001b[0m\u001b[0;34m,\u001b[0m \u001b[0mself\u001b[0m\u001b[0;34m.\u001b[0m\u001b[0m_k\u001b[0m\u001b[0;34m)\u001b[0m\u001b[0;34m)\u001b[0m\u001b[0;34m\u001b[0m\u001b[0;34m\u001b[0m\u001b[0m\n\u001b[1;32m      4\u001b[0m \u001b[0;34m\u001b[0m\u001b[0m\n\u001b[1;32m      5\u001b[0m \u001b[0;31m# init biases\u001b[0m\u001b[0;34m\u001b[0m\u001b[0;34m\u001b[0m\u001b[0;34m\u001b[0m\u001b[0m\n",
      "\u001b[0;31mNameError\u001b[0m: name 'self' is not defined"
     ]
    }
   ],
   "source": [
    "# init latent features\n",
    "self._P = np.random.normal(size=(self._num_users, self._k))\n",
    "self._Q = np.random.normal(size=(self._num_items, self._k))\n",
    "\n",
    "# init biases\n",
    "self._b_P = np.zeros(self._num_users)\n",
    "self._b_Q = np.zeros(self._num_items)\n",
    "self._b = np.mean(self._R[np.where(self._R != 0)])"
   ]
  },
  {
   "cell_type": "markdown",
   "metadata": {
    "papermill": {
     "duration": 0.018232,
     "end_time": "2021-03-24T12:58:41.582697",
     "exception": false,
     "start_time": "2021-03-24T12:58:41.564465",
     "status": "completed"
    },
    "tags": []
   },
   "source": [
    "이때, np.random.normal 함수를 이용해서 행렬을 초기화해주고 np.zeros 함수를 이용해서 bias 부분을 초기화해줍니다. 함수의 의미는 아래와 같습니다.\n",
    "\n",
    "- np.random.normal : (self._num_users, self._k)의 크기로 행렬을 정규분포 형태로 초기화합니다. 위의 예시에서는 User Latent Matrix는 (7, 3)의 크기를 Item Latent Matrix는 (5, 3)의 크기를 가짐\n",
    "- np.zeros : self._num_users 혹은 self._num_items의 크기만큼의 0 값을 가지는 벡터를 생성합니다.\n",
    "- np.mean(self._R[np.where(self._R != 0)]) : 전체 평점의 평균을 계산\n",
    "\n",
    "이후, 전체 학습 과정을 진행합니다."
   ]
  },
  {
   "cell_type": "code",
   "execution_count": 8,
   "metadata": {
    "execution": {
     "iopub.execute_input": "2021-03-24T12:58:41.635048Z",
     "iopub.status.busy": "2021-03-24T12:58:41.634074Z",
     "iopub.status.idle": "2021-03-24T12:58:41.638615Z",
     "shell.execute_reply": "2021-03-24T12:58:41.638025Z"
    },
    "papermill": {
     "duration": 0.037923,
     "end_time": "2021-03-24T12:58:41.638716",
     "exception": false,
     "start_time": "2021-03-24T12:58:41.600793",
     "status": "completed"
    },
    "tags": []
   },
   "outputs": [
    {
     "ename": "NameError",
     "evalue": "name 'self' is not defined",
     "output_type": "error",
     "traceback": [
      "\u001b[0;31m---------------------------------------------------------------------------\u001b[0m",
      "\u001b[0;31mNameError\u001b[0m                                 Traceback (most recent call last)",
      "\u001b[0;32m<ipython-input-8-080f4aed9728>\u001b[0m in \u001b[0;36m<module>\u001b[0;34m\u001b[0m\n\u001b[1;32m      1\u001b[0m \u001b[0;31m# train while epochs\u001b[0m\u001b[0;34m\u001b[0m\u001b[0;34m\u001b[0m\u001b[0;34m\u001b[0m\u001b[0m\n\u001b[0;32m----> 2\u001b[0;31m \u001b[0mself\u001b[0m\u001b[0;34m.\u001b[0m\u001b[0m_training_process\u001b[0m \u001b[0;34m=\u001b[0m \u001b[0;34m[\u001b[0m\u001b[0;34m]\u001b[0m\u001b[0;34m\u001b[0m\u001b[0;34m\u001b[0m\u001b[0m\n\u001b[0m\u001b[1;32m      3\u001b[0m \u001b[0;32mfor\u001b[0m \u001b[0mepoch\u001b[0m \u001b[0;32min\u001b[0m \u001b[0mrange\u001b[0m\u001b[0;34m(\u001b[0m\u001b[0mself\u001b[0m\u001b[0;34m.\u001b[0m\u001b[0m_epochs\u001b[0m\u001b[0;34m)\u001b[0m\u001b[0;34m:\u001b[0m\u001b[0;34m\u001b[0m\u001b[0;34m\u001b[0m\u001b[0m\n\u001b[1;32m      4\u001b[0m     \u001b[0;31m# rating이 존재하는 index를 기준으로 training\u001b[0m\u001b[0;34m\u001b[0m\u001b[0;34m\u001b[0m\u001b[0;34m\u001b[0m\u001b[0m\n\u001b[1;32m      5\u001b[0m     \u001b[0mxi\u001b[0m\u001b[0;34m,\u001b[0m \u001b[0myi\u001b[0m \u001b[0;34m=\u001b[0m \u001b[0mself\u001b[0m\u001b[0;34m.\u001b[0m\u001b[0m_R\u001b[0m\u001b[0;34m.\u001b[0m\u001b[0mnonzero\u001b[0m\u001b[0;34m(\u001b[0m\u001b[0;34m)\u001b[0m\u001b[0;34m\u001b[0m\u001b[0;34m\u001b[0m\u001b[0m\n",
      "\u001b[0;31mNameError\u001b[0m: name 'self' is not defined"
     ]
    }
   ],
   "source": [
    "# train while epochs\n",
    "self._training_process = []\n",
    "for epoch in range(self._epochs):\n",
    "    # rating이 존재하는 index를 기준으로 training\n",
    "    xi, yi = self._R.nonzero()\n",
    "    for i, j in zip(xi, yi):\n",
    "        self.gradient_descent(i, j, self._R[i, j])\n",
    "    cost = self.cost()\n",
    "    self._training_process.append((epoch, cost))\n",
    "\n",
    "    # print status\n",
    "    if self._verbose == True and ((epoch + 1) % 10 == 0):\n",
    "        print(\"Iteration: %d ; cost = %.4f\" % (epoch + 1, cost))"
   ]
  },
  {
   "cell_type": "markdown",
   "metadata": {
    "papermill": {
     "duration": 0.018556,
     "end_time": "2021-03-24T12:58:41.676196",
     "exception": false,
     "start_time": "2021-03-24T12:58:41.657640",
     "status": "completed"
    },
    "tags": []
   },
   "source": [
    "- self._training_process = [] 는 for문 안의 self._training_process.append((epoch, cost)) 에 사용되는 부분으로 학습 시에 Epoch와 Cost를 저장하는 부분입니다. for문의 경우 처음 파라미터로 받은 self._epochs 만큼 반복학습을 진행하게 됩니다.\n",
    "\n",
    "\n",
    "- 먼저 시행되는 for문의 첫 번째로 시행되는 xi, yi = self._R.nonzero()는 평점 행렬에서 0이 아닌 부분 즉, 사용자가 평점을 매긴 부분에 대해서만 값을 추출하라는 의미입니다. 그 이유는 위의 이론에서 말했듯이 결측치가 아닌 부분을 통해서만 학습을 진행하려는 의도입니다. 이후에 해당 부분을 통해서 모든 평점 부분에 대해서 gradient_descent를 실행해줍니다."
   ]
  },
  {
   "cell_type": "code",
   "execution_count": 9,
   "metadata": {
    "execution": {
     "iopub.execute_input": "2021-03-24T12:58:41.726614Z",
     "iopub.status.busy": "2021-03-24T12:58:41.725703Z",
     "iopub.status.idle": "2021-03-24T12:58:41.730578Z",
     "shell.execute_reply": "2021-03-24T12:58:41.730084Z"
    },
    "papermill": {
     "duration": 0.035765,
     "end_time": "2021-03-24T12:58:41.730691",
     "exception": false,
     "start_time": "2021-03-24T12:58:41.694926",
     "status": "completed"
    },
    "tags": []
   },
   "outputs": [
    {
     "ename": "NameError",
     "evalue": "name 'xi' is not defined",
     "output_type": "error",
     "traceback": [
      "\u001b[0;31m---------------------------------------------------------------------------\u001b[0m",
      "\u001b[0;31mNameError\u001b[0m                                 Traceback (most recent call last)",
      "\u001b[0;32m<ipython-input-9-e949e3c39b49>\u001b[0m in \u001b[0;36m<module>\u001b[0;34m\u001b[0m\n\u001b[0;32m----> 1\u001b[0;31m \u001b[0;32mfor\u001b[0m \u001b[0mi\u001b[0m\u001b[0;34m,\u001b[0m \u001b[0mj\u001b[0m \u001b[0;32min\u001b[0m \u001b[0mzip\u001b[0m\u001b[0;34m(\u001b[0m\u001b[0mxi\u001b[0m\u001b[0;34m,\u001b[0m \u001b[0myi\u001b[0m\u001b[0;34m)\u001b[0m\u001b[0;34m:\u001b[0m\u001b[0;34m\u001b[0m\u001b[0;34m\u001b[0m\u001b[0m\n\u001b[0m\u001b[1;32m      2\u001b[0m     \u001b[0mself\u001b[0m\u001b[0;34m.\u001b[0m\u001b[0mgradient_descent\u001b[0m\u001b[0;34m(\u001b[0m\u001b[0mi\u001b[0m\u001b[0;34m,\u001b[0m \u001b[0mj\u001b[0m\u001b[0;34m,\u001b[0m \u001b[0mself\u001b[0m\u001b[0;34m.\u001b[0m\u001b[0m_R\u001b[0m\u001b[0;34m[\u001b[0m\u001b[0mi\u001b[0m\u001b[0;34m,\u001b[0m \u001b[0mj\u001b[0m\u001b[0;34m]\u001b[0m\u001b[0;34m)\u001b[0m\u001b[0;34m\u001b[0m\u001b[0;34m\u001b[0m\u001b[0m\n",
      "\u001b[0;31mNameError\u001b[0m: name 'xi' is not defined"
     ]
    }
   ],
   "source": [
    "for i, j in zip(xi, yi):\n",
    "    self.gradient_descent(i, j, self._R[i, j])"
   ]
  },
  {
   "cell_type": "code",
   "execution_count": 10,
   "metadata": {
    "execution": {
     "iopub.execute_input": "2021-03-24T12:58:41.777763Z",
     "iopub.status.busy": "2021-03-24T12:58:41.777137Z",
     "iopub.status.idle": "2021-03-24T12:58:41.780514Z",
     "shell.execute_reply": "2021-03-24T12:58:41.780018Z"
    },
    "papermill": {
     "duration": 0.03062,
     "end_time": "2021-03-24T12:58:41.780609",
     "exception": false,
     "start_time": "2021-03-24T12:58:41.749989",
     "status": "completed"
    },
    "tags": []
   },
   "outputs": [],
   "source": [
    "def gradient_descent(self, i, j, rating):\n",
    "    \"\"\"\n",
    "    graident descent function\n",
    "\n",
    "    :param i: user index of matrix\n",
    "    :param j: item index of matrix\n",
    "    :param rating: rating of (i,j)\n",
    "    \"\"\"\n",
    "\n",
    "    # get error\n",
    "    prediction = self.get_prediction(i, j)\n",
    "    error = rating - prediction\n",
    "\n",
    "    # update biases\n",
    "    self._b_P[i] += self._learning_rate * (error - self._reg_param * self._b_P[i])\n",
    "    self._b_Q[j] += self._learning_rate * (error - self._reg_param * self._b_Q[j])\n",
    "\n",
    "    # update latent feature\n",
    "    dp, dq = self.gradient(error, i, j)\n",
    "    self._P[i, :] += self._learning_rate * dp\n",
    "    self._Q[j, :] += self._learning_rate * dq"
   ]
  },
  {
   "cell_type": "markdown",
   "metadata": {
    "papermill": {
     "duration": 0.019108,
     "end_time": "2021-03-24T12:58:41.818620",
     "exception": false,
     "start_time": "2021-03-24T12:58:41.799512",
     "status": "completed"
    },
    "tags": []
   },
   "source": [
    "- gradient_descent 함수의 경우 행렬의 원소 위치(i, j)와 평점 값(self._R[i, j])을 받습니다. 바로 시작하는 prediction = self.get_prediction(i, j) 은 User Latent Matrix와 Item Latent Matrix의 곱을 통해서 평점 행렬의 값들을 생성하는 부분입니다.\n",
    "\n",
    "\n",
    "- self._P[i, :].dot(self._Q[j, :].T) 에서 User Latent P와 Item Latent Q가 곱해져서 평점을 계산하고 Bias를 없애기 위해서 전체 평균(self._b), User의 평균 평점(self._b_P[i]), Item의 평균 평점(self._b_Q[j])을 더해줌으로써 값을 생성합니다."
   ]
  },
  {
   "cell_type": "code",
   "execution_count": 11,
   "metadata": {
    "execution": {
     "iopub.execute_input": "2021-03-24T12:58:41.863355Z",
     "iopub.status.busy": "2021-03-24T12:58:41.862780Z",
     "iopub.status.idle": "2021-03-24T12:58:41.865778Z",
     "shell.execute_reply": "2021-03-24T12:58:41.865216Z"
    },
    "papermill": {
     "duration": 0.02809,
     "end_time": "2021-03-24T12:58:41.865899",
     "exception": false,
     "start_time": "2021-03-24T12:58:41.837809",
     "status": "completed"
    },
    "tags": []
   },
   "outputs": [],
   "source": [
    "def get_prediction(self, i, j):\n",
    "    \"\"\"\n",
    "    get predicted rating: user_i, item_j\n",
    "    :return: prediction of r_ij\n",
    "    \"\"\"\n",
    "    return self._b + self._b_P[i] + self._b_Q[j] + self._P[i, :].dot(self._Q[j, :].T)"
   ]
  },
  {
   "cell_type": "markdown",
   "metadata": {
    "papermill": {
     "duration": 0.018962,
     "end_time": "2021-03-24T12:58:41.904321",
     "exception": false,
     "start_time": "2021-03-24T12:58:41.885359",
     "status": "completed"
    },
    "tags": []
   },
   "source": [
    "이후에, error = rating - prediction 을 통해서 얼마만큼의 차이가 있는지 계산을 합니다. 그리고 아래의 수식에서 사용한 공식을 이용해서 self.gradient(error, i, j) 에서 Gradient 값을 계산하고 Weight 및 Bais를 업데이트합니다."
   ]
  },
  {
   "cell_type": "markdown",
   "metadata": {
    "papermill": {
     "duration": 0.019213,
     "end_time": "2021-03-24T12:58:41.942985",
     "exception": false,
     "start_time": "2021-03-24T12:58:41.923772",
     "status": "completed"
    },
    "tags": []
   },
   "source": [
    "![](https://drive.google.com/uc?export=view&id=1Nlhx0ilvzD4Vhxnj4WPrhnJNRFkRfBPf)"
   ]
  },
  {
   "cell_type": "code",
   "execution_count": 12,
   "metadata": {
    "execution": {
     "iopub.execute_input": "2021-03-24T12:58:41.989105Z",
     "iopub.status.busy": "2021-03-24T12:58:41.988434Z",
     "iopub.status.idle": "2021-03-24T12:58:41.998783Z",
     "shell.execute_reply": "2021-03-24T12:58:41.999447Z"
    },
    "papermill": {
     "duration": 0.037226,
     "end_time": "2021-03-24T12:58:41.999578",
     "exception": false,
     "start_time": "2021-03-24T12:58:41.962352",
     "status": "completed"
    },
    "tags": []
   },
   "outputs": [
    {
     "ename": "NameError",
     "evalue": "name 'self' is not defined",
     "output_type": "error",
     "traceback": [
      "\u001b[0;31m---------------------------------------------------------------------------\u001b[0m",
      "\u001b[0;31mNameError\u001b[0m                                 Traceback (most recent call last)",
      "\u001b[0;32m<ipython-input-12-cd92898b318e>\u001b[0m in \u001b[0;36m<module>\u001b[0;34m\u001b[0m\n\u001b[1;32m      1\u001b[0m \u001b[0;31m# update biases\u001b[0m\u001b[0;34m\u001b[0m\u001b[0;34m\u001b[0m\u001b[0;34m\u001b[0m\u001b[0m\n\u001b[0;32m----> 2\u001b[0;31m \u001b[0mself\u001b[0m\u001b[0;34m.\u001b[0m\u001b[0m_b_P\u001b[0m\u001b[0;34m[\u001b[0m\u001b[0mi\u001b[0m\u001b[0;34m]\u001b[0m \u001b[0;34m+=\u001b[0m \u001b[0mself\u001b[0m\u001b[0;34m.\u001b[0m\u001b[0m_learning_rate\u001b[0m \u001b[0;34m*\u001b[0m \u001b[0;34m(\u001b[0m\u001b[0merror\u001b[0m \u001b[0;34m-\u001b[0m \u001b[0mself\u001b[0m\u001b[0;34m.\u001b[0m\u001b[0m_reg_param\u001b[0m \u001b[0;34m*\u001b[0m \u001b[0mself\u001b[0m\u001b[0;34m.\u001b[0m\u001b[0m_b_P\u001b[0m\u001b[0;34m[\u001b[0m\u001b[0mi\u001b[0m\u001b[0;34m]\u001b[0m\u001b[0;34m)\u001b[0m\u001b[0;34m\u001b[0m\u001b[0;34m\u001b[0m\u001b[0m\n\u001b[0m\u001b[1;32m      3\u001b[0m \u001b[0mself\u001b[0m\u001b[0;34m.\u001b[0m\u001b[0m_b_Q\u001b[0m\u001b[0;34m[\u001b[0m\u001b[0mj\u001b[0m\u001b[0;34m]\u001b[0m \u001b[0;34m+=\u001b[0m \u001b[0mself\u001b[0m\u001b[0;34m.\u001b[0m\u001b[0m_learning_rate\u001b[0m \u001b[0;34m*\u001b[0m \u001b[0;34m(\u001b[0m\u001b[0merror\u001b[0m \u001b[0;34m-\u001b[0m \u001b[0mself\u001b[0m\u001b[0;34m.\u001b[0m\u001b[0m_reg_param\u001b[0m \u001b[0;34m*\u001b[0m \u001b[0mself\u001b[0m\u001b[0;34m.\u001b[0m\u001b[0m_b_Q\u001b[0m\u001b[0;34m[\u001b[0m\u001b[0mj\u001b[0m\u001b[0;34m]\u001b[0m\u001b[0;34m)\u001b[0m\u001b[0;34m\u001b[0m\u001b[0;34m\u001b[0m\u001b[0m\n\u001b[1;32m      4\u001b[0m \u001b[0;34m\u001b[0m\u001b[0m\n\u001b[1;32m      5\u001b[0m \u001b[0;31m# update latent feature\u001b[0m\u001b[0;34m\u001b[0m\u001b[0;34m\u001b[0m\u001b[0;34m\u001b[0m\u001b[0m\n",
      "\u001b[0;31mNameError\u001b[0m: name 'self' is not defined"
     ]
    }
   ],
   "source": [
    "# update biases\n",
    "self._b_P[i] += self._learning_rate * (error - self._reg_param * self._b_P[i])\n",
    "self._b_Q[j] += self._learning_rate * (error - self._reg_param * self._b_Q[j])\n",
    "\n",
    "# update latent feature\n",
    "dp, dq = self.gradient(error, i, j)\n",
    "self._P[i, :] += self._learning_rate * dp\n",
    "self._Q[j, :] += self._learning_rate * dq"
   ]
  },
  {
   "cell_type": "markdown",
   "metadata": {
    "papermill": {
     "duration": 0.019679,
     "end_time": "2021-03-24T12:58:42.039459",
     "exception": false,
     "start_time": "2021-03-24T12:58:42.019780",
     "status": "completed"
    },
    "tags": []
   },
   "source": [
    "이후에, cost = self.cost() 에서 전체 Matrix에 대해서 오차를 계산하고 출력해줍니다. cost += pow(self._R[x, y] - self.get_prediction(x, y), 2) 에서 각 평점 별로 오차를 계산하게 됩니다."
   ]
  },
  {
   "cell_type": "code",
   "execution_count": 13,
   "metadata": {
    "execution": {
     "iopub.execute_input": "2021-03-24T12:58:42.082530Z",
     "iopub.status.busy": "2021-03-24T12:58:42.081762Z",
     "iopub.status.idle": "2021-03-24T12:58:42.087766Z",
     "shell.execute_reply": "2021-03-24T12:58:42.088443Z"
    },
    "papermill": {
     "duration": 0.029259,
     "end_time": "2021-03-24T12:58:42.088571",
     "exception": false,
     "start_time": "2021-03-24T12:58:42.059312",
     "status": "completed"
    },
    "tags": []
   },
   "outputs": [],
   "source": [
    "def cost(self):\n",
    "    \"\"\"\n",
    "    compute root mean square error\n",
    "    :return: rmse cost\n",
    "    \"\"\"\n",
    "\n",
    "    # xi, yi: R[xi, yi]는 nonzero인 value를 의미한다.\n",
    "    # 참고: http://codepractice.tistory.com/90\n",
    "    xi, yi = self._R.nonzero()\n",
    "    # predicted = self.get_complete_matrix()\n",
    "    cost = 0\n",
    "    for x, y in zip(xi, yi):\n",
    "        cost += pow(self._R[x, y] - self.get_prediction(x, y), 2)\n",
    "    return np.sqrt(cost/len(xi))"
   ]
  },
  {
   "cell_type": "markdown",
   "metadata": {
    "papermill": {
     "duration": 0.020155,
     "end_time": "2021-03-24T12:58:42.129366",
     "exception": false,
     "start_time": "2021-03-24T12:58:42.109211",
     "status": "completed"
    },
    "tags": []
   },
   "source": [
    "이후, 모든 Epoch에 대해서 학습이 완료되면 factorizer.get_complete_matrix() 를 통해서 완성된 평점 행렬을 추출하게 되면 SGD를 이용한 협업 필터링이 완료되게 됩니다."
   ]
  },
  {
   "cell_type": "code",
   "execution_count": 14,
   "metadata": {
    "execution": {
     "iopub.execute_input": "2021-03-24T12:58:42.172777Z",
     "iopub.status.busy": "2021-03-24T12:58:42.172230Z",
     "iopub.status.idle": "2021-03-24T12:58:42.183296Z",
     "shell.execute_reply": "2021-03-24T12:58:42.183788Z"
    },
    "papermill": {
     "duration": 0.034223,
     "end_time": "2021-03-24T12:58:42.183964",
     "exception": false,
     "start_time": "2021-03-24T12:58:42.149741",
     "status": "completed"
    },
    "tags": []
   },
   "outputs": [
    {
     "ename": "AttributeError",
     "evalue": "'MatrixFactorization' object has no attribute 'get_complete_matrix'",
     "output_type": "error",
     "traceback": [
      "\u001b[0;31m---------------------------------------------------------------------------\u001b[0m",
      "\u001b[0;31mAttributeError\u001b[0m                            Traceback (most recent call last)",
      "\u001b[0;32m<ipython-input-14-7d1c5df449ff>\u001b[0m in \u001b[0;36m<module>\u001b[0;34m\u001b[0m\n\u001b[0;32m----> 1\u001b[0;31m \u001b[0mfactorizer\u001b[0m\u001b[0;34m.\u001b[0m\u001b[0mget_complete_matrix\u001b[0m\u001b[0;34m(\u001b[0m\u001b[0;34m)\u001b[0m\u001b[0;34m\u001b[0m\u001b[0;34m\u001b[0m\u001b[0m\n\u001b[0m",
      "\u001b[0;31mAttributeError\u001b[0m: 'MatrixFactorization' object has no attribute 'get_complete_matrix'"
     ]
    }
   ],
   "source": [
    "factorizer.get_complete_matrix()"
   ]
  },
  {
   "cell_type": "markdown",
   "metadata": {
    "papermill": {
     "duration": 0.020341,
     "end_time": "2021-03-24T12:58:42.225291",
     "exception": false,
     "start_time": "2021-03-24T12:58:42.204950",
     "status": "completed"
    },
    "tags": []
   },
   "source": [
    "참고로 이를 조금 수정해서 PyTorch를 이용한 코드는 다음의 링크에서 확인할 수 있습니다. 다음 포스팅에서는 ALS가 무엇인지에서부터 어떻게 사용하는지에 대해 알아보도록 하겠습니다."
   ]
  }
 ],
 "metadata": {
  "kernelspec": {
   "display_name": "Python 3",
   "language": "python",
   "name": "python3"
  },
  "language_info": {
   "codemirror_mode": {
    "name": "ipython",
    "version": 3
   },
   "file_extension": ".py",
   "mimetype": "text/x-python",
   "name": "python",
   "nbconvert_exporter": "python",
   "pygments_lexer": "ipython3",
   "version": "3.7.6"
  },
  "papermill": {
   "duration": 6.198475,
   "end_time": "2021-03-24T12:58:42.352903",
   "environment_variables": {},
   "exception": null,
   "input_path": "__notebook__.ipynb",
   "output_path": "__notebook__.ipynb",
   "parameters": {},
   "start_time": "2021-03-24T12:58:36.154428",
   "version": "2.1.0"
  }
 },
 "nbformat": 4,
 "nbformat_minor": 4
}
