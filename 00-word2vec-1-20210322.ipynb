{
 "cells": [
  {
   "cell_type": "markdown",
   "metadata": {
    "papermill": {
     "duration": 0.02006,
     "end_time": "2021-03-22T10:37:27.578274",
     "exception": false,
     "start_time": "2021-03-22T10:37:27.558214",
     "status": "completed"
    },
    "tags": []
   },
   "source": [
    "## Word2Vec 알고리즘\n"
   ]
  },
  {
   "cell_type": "code",
   "execution_count": 1,
   "metadata": {
    "execution": {
     "iopub.execute_input": "2021-03-22T10:37:27.622671Z",
     "iopub.status.busy": "2021-03-22T10:37:27.621840Z",
     "iopub.status.idle": "2021-03-22T10:37:28.981744Z",
     "shell.execute_reply": "2021-03-22T10:37:28.982267Z"
    },
    "papermill": {
     "duration": 1.384652,
     "end_time": "2021-03-22T10:37:28.982466",
     "exception": false,
     "start_time": "2021-03-22T10:37:27.597814",
     "status": "completed"
    },
    "tags": []
   },
   "outputs": [],
   "source": [
    "import pandas as pd\n",
    "import numpy as np\n",
    "from sklearn.feature_extraction.text import TfidfVectorizer\n",
    "import gensim "
   ]
  },
  {
   "cell_type": "code",
   "execution_count": 2,
   "metadata": {
    "execution": {
     "iopub.execute_input": "2021-03-22T10:37:29.027852Z",
     "iopub.status.busy": "2021-03-22T10:37:29.026751Z",
     "iopub.status.idle": "2021-03-22T10:37:29.030535Z",
     "shell.execute_reply": "2021-03-22T10:37:29.029960Z"
    },
    "papermill": {
     "duration": 0.027463,
     "end_time": "2021-03-22T10:37:29.030649",
     "exception": false,
     "start_time": "2021-03-22T10:37:29.003186",
     "status": "completed"
    },
    "tags": []
   },
   "outputs": [],
   "source": [
    "import warnings\n",
    "warnings.filterwarnings(action='ignore')"
   ]
  },
  {
   "cell_type": "code",
   "execution_count": 3,
   "metadata": {
    "execution": {
     "iopub.execute_input": "2021-03-22T10:37:29.075102Z",
     "iopub.status.busy": "2021-03-22T10:37:29.073972Z",
     "iopub.status.idle": "2021-03-22T10:37:29.077554Z",
     "shell.execute_reply": "2021-03-22T10:37:29.076816Z"
    },
    "papermill": {
     "duration": 0.027852,
     "end_time": "2021-03-22T10:37:29.077693",
     "exception": false,
     "start_time": "2021-03-22T10:37:29.049841",
     "status": "completed"
    },
    "tags": []
   },
   "outputs": [],
   "source": [
    "# 경로의 경우 각자의 환경에 맞게 설정해주면 됩니다. \n",
    "path = '../input/t-academy-recommendation2/movies/'"
   ]
  },
  {
   "cell_type": "code",
   "execution_count": 4,
   "metadata": {
    "execution": {
     "iopub.execute_input": "2021-03-22T10:37:29.130523Z",
     "iopub.status.busy": "2021-03-22T10:37:29.129768Z",
     "iopub.status.idle": "2021-03-22T10:37:29.243617Z",
     "shell.execute_reply": "2021-03-22T10:37:29.244108Z"
    },
    "papermill": {
     "duration": 0.147306,
     "end_time": "2021-03-22T10:37:29.244263",
     "exception": false,
     "start_time": "2021-03-22T10:37:29.096957",
     "status": "completed"
    },
    "tags": []
   },
   "outputs": [
    {
     "data": {
      "text/html": [
       "<div>\n",
       "<style scoped>\n",
       "    .dataframe tbody tr th:only-of-type {\n",
       "        vertical-align: middle;\n",
       "    }\n",
       "\n",
       "    .dataframe tbody tr th {\n",
       "        vertical-align: top;\n",
       "    }\n",
       "\n",
       "    .dataframe thead th {\n",
       "        text-align: right;\n",
       "    }\n",
       "</style>\n",
       "<table border=\"1\" class=\"dataframe\">\n",
       "  <thead>\n",
       "    <tr style=\"text-align: right;\">\n",
       "      <th></th>\n",
       "      <th>userId</th>\n",
       "      <th>movieId</th>\n",
       "      <th>rating</th>\n",
       "      <th>timestamp</th>\n",
       "    </tr>\n",
       "  </thead>\n",
       "  <tbody>\n",
       "    <tr>\n",
       "      <th>0</th>\n",
       "      <td>1</td>\n",
       "      <td>31</td>\n",
       "      <td>2.5</td>\n",
       "      <td>1260759144</td>\n",
       "    </tr>\n",
       "    <tr>\n",
       "      <th>1</th>\n",
       "      <td>1</td>\n",
       "      <td>1029</td>\n",
       "      <td>3.0</td>\n",
       "      <td>1260759179</td>\n",
       "    </tr>\n",
       "  </tbody>\n",
       "</table>\n",
       "</div>"
      ],
      "text/plain": [
       "   userId  movieId  rating   timestamp\n",
       "0       1       31     2.5  1260759144\n",
       "1       1     1029     3.0  1260759179"
      ]
     },
     "execution_count": 4,
     "metadata": {},
     "output_type": "execute_result"
    }
   ],
   "source": [
    "movie = pd.read_csv(path + 'ratings.csv', low_memory=False)\n",
    "movie.head(2)"
   ]
  },
  {
   "cell_type": "code",
   "execution_count": 5,
   "metadata": {
    "execution": {
     "iopub.execute_input": "2021-03-22T10:37:29.288087Z",
     "iopub.status.busy": "2021-03-22T10:37:29.287429Z",
     "iopub.status.idle": "2021-03-22T10:37:29.315540Z",
     "shell.execute_reply": "2021-03-22T10:37:29.316142Z"
    },
    "papermill": {
     "duration": 0.051779,
     "end_time": "2021-03-22T10:37:29.316292",
     "exception": false,
     "start_time": "2021-03-22T10:37:29.264513",
     "status": "completed"
    },
    "tags": []
   },
   "outputs": [
    {
     "data": {
      "text/html": [
       "<div>\n",
       "<style scoped>\n",
       "    .dataframe tbody tr th:only-of-type {\n",
       "        vertical-align: middle;\n",
       "    }\n",
       "\n",
       "    .dataframe tbody tr th {\n",
       "        vertical-align: top;\n",
       "    }\n",
       "\n",
       "    .dataframe thead th {\n",
       "        text-align: right;\n",
       "    }\n",
       "</style>\n",
       "<table border=\"1\" class=\"dataframe\">\n",
       "  <thead>\n",
       "    <tr style=\"text-align: right;\">\n",
       "      <th></th>\n",
       "      <th>userId</th>\n",
       "      <th>movieId</th>\n",
       "      <th>rating</th>\n",
       "      <th>timestamp</th>\n",
       "    </tr>\n",
       "  </thead>\n",
       "  <tbody>\n",
       "    <tr>\n",
       "      <th>0</th>\n",
       "      <td>383</td>\n",
       "      <td>21</td>\n",
       "      <td>3.0</td>\n",
       "      <td>789652009</td>\n",
       "    </tr>\n",
       "    <tr>\n",
       "      <th>1</th>\n",
       "      <td>383</td>\n",
       "      <td>47</td>\n",
       "      <td>5.0</td>\n",
       "      <td>789652009</td>\n",
       "    </tr>\n",
       "    <tr>\n",
       "      <th>2</th>\n",
       "      <td>383</td>\n",
       "      <td>1079</td>\n",
       "      <td>3.0</td>\n",
       "      <td>789652009</td>\n",
       "    </tr>\n",
       "    <tr>\n",
       "      <th>3</th>\n",
       "      <td>409</td>\n",
       "      <td>21</td>\n",
       "      <td>5.0</td>\n",
       "      <td>828212412</td>\n",
       "    </tr>\n",
       "    <tr>\n",
       "      <th>4</th>\n",
       "      <td>409</td>\n",
       "      <td>25</td>\n",
       "      <td>4.0</td>\n",
       "      <td>828212412</td>\n",
       "    </tr>\n",
       "  </tbody>\n",
       "</table>\n",
       "</div>"
      ],
      "text/plain": [
       "   userId  movieId  rating  timestamp\n",
       "0     383       21     3.0  789652009\n",
       "1     383       47     5.0  789652009\n",
       "2     383     1079     3.0  789652009\n",
       "3     409       21     5.0  828212412\n",
       "4     409       25     4.0  828212412"
      ]
     },
     "execution_count": 5,
     "metadata": {},
     "output_type": "execute_result"
    }
   ],
   "source": [
    "movie = movie.sort_values(by='timestamp', ascending=True).reset_index(drop=True)\n",
    "movie.head()"
   ]
  },
  {
   "cell_type": "code",
   "execution_count": 6,
   "metadata": {
    "execution": {
     "iopub.execute_input": "2021-03-22T10:37:29.367991Z",
     "iopub.status.busy": "2021-03-22T10:37:29.367288Z",
     "iopub.status.idle": "2021-03-22T10:37:30.542277Z",
     "shell.execute_reply": "2021-03-22T10:37:30.541229Z"
    },
    "papermill": {
     "duration": 1.203839,
     "end_time": "2021-03-22T10:37:30.542442",
     "exception": false,
     "start_time": "2021-03-22T10:37:29.338603",
     "status": "completed"
    },
    "tags": []
   },
   "outputs": [
    {
     "data": {
      "text/html": [
       "<div>\n",
       "<style scoped>\n",
       "    .dataframe tbody tr th:only-of-type {\n",
       "        vertical-align: middle;\n",
       "    }\n",
       "\n",
       "    .dataframe tbody tr th {\n",
       "        vertical-align: top;\n",
       "    }\n",
       "\n",
       "    .dataframe thead th {\n",
       "        text-align: right;\n",
       "    }\n",
       "</style>\n",
       "<table border=\"1\" class=\"dataframe\">\n",
       "  <thead>\n",
       "    <tr style=\"text-align: right;\">\n",
       "      <th></th>\n",
       "      <th>adult</th>\n",
       "      <th>belongs_to_collection</th>\n",
       "      <th>budget</th>\n",
       "      <th>genres</th>\n",
       "      <th>homepage</th>\n",
       "      <th>id</th>\n",
       "      <th>imdb_id</th>\n",
       "      <th>original_language</th>\n",
       "      <th>original_title</th>\n",
       "      <th>overview</th>\n",
       "      <th>...</th>\n",
       "      <th>release_date</th>\n",
       "      <th>revenue</th>\n",
       "      <th>runtime</th>\n",
       "      <th>spoken_languages</th>\n",
       "      <th>status</th>\n",
       "      <th>tagline</th>\n",
       "      <th>title</th>\n",
       "      <th>video</th>\n",
       "      <th>vote_average</th>\n",
       "      <th>vote_count</th>\n",
       "    </tr>\n",
       "  </thead>\n",
       "  <tbody>\n",
       "    <tr>\n",
       "      <th>0</th>\n",
       "      <td>False</td>\n",
       "      <td>{'id': 10194, 'name': 'Toy Story Collection', ...</td>\n",
       "      <td>30000000</td>\n",
       "      <td>[{'id': 16, 'name': 'Animation'}, {'id': 35, '...</td>\n",
       "      <td>http://toystory.disney.com/toy-story</td>\n",
       "      <td>862</td>\n",
       "      <td>tt0114709</td>\n",
       "      <td>en</td>\n",
       "      <td>Toy Story</td>\n",
       "      <td>Led by Woody, Andy's toys live happily in his ...</td>\n",
       "      <td>...</td>\n",
       "      <td>1995-10-30</td>\n",
       "      <td>373554033.0</td>\n",
       "      <td>81.0</td>\n",
       "      <td>[{'iso_639_1': 'en', 'name': 'English'}]</td>\n",
       "      <td>Released</td>\n",
       "      <td>NaN</td>\n",
       "      <td>Toy Story</td>\n",
       "      <td>False</td>\n",
       "      <td>7.7</td>\n",
       "      <td>5415.0</td>\n",
       "    </tr>\n",
       "    <tr>\n",
       "      <th>1</th>\n",
       "      <td>False</td>\n",
       "      <td>NaN</td>\n",
       "      <td>65000000</td>\n",
       "      <td>[{'id': 12, 'name': 'Adventure'}, {'id': 14, '...</td>\n",
       "      <td>NaN</td>\n",
       "      <td>8844</td>\n",
       "      <td>tt0113497</td>\n",
       "      <td>en</td>\n",
       "      <td>Jumanji</td>\n",
       "      <td>When siblings Judy and Peter discover an encha...</td>\n",
       "      <td>...</td>\n",
       "      <td>1995-12-15</td>\n",
       "      <td>262797249.0</td>\n",
       "      <td>104.0</td>\n",
       "      <td>[{'iso_639_1': 'en', 'name': 'English'}, {'iso...</td>\n",
       "      <td>Released</td>\n",
       "      <td>Roll the dice and unleash the excitement!</td>\n",
       "      <td>Jumanji</td>\n",
       "      <td>False</td>\n",
       "      <td>6.9</td>\n",
       "      <td>2413.0</td>\n",
       "    </tr>\n",
       "  </tbody>\n",
       "</table>\n",
       "<p>2 rows × 24 columns</p>\n",
       "</div>"
      ],
      "text/plain": [
       "   adult                              belongs_to_collection    budget  \\\n",
       "0  False  {'id': 10194, 'name': 'Toy Story Collection', ...  30000000   \n",
       "1  False                                                NaN  65000000   \n",
       "\n",
       "                                              genres  \\\n",
       "0  [{'id': 16, 'name': 'Animation'}, {'id': 35, '...   \n",
       "1  [{'id': 12, 'name': 'Adventure'}, {'id': 14, '...   \n",
       "\n",
       "                               homepage    id    imdb_id original_language  \\\n",
       "0  http://toystory.disney.com/toy-story   862  tt0114709                en   \n",
       "1                                   NaN  8844  tt0113497                en   \n",
       "\n",
       "  original_title                                           overview  ...  \\\n",
       "0      Toy Story  Led by Woody, Andy's toys live happily in his ...  ...   \n",
       "1        Jumanji  When siblings Judy and Peter discover an encha...  ...   \n",
       "\n",
       "  release_date      revenue runtime  \\\n",
       "0   1995-10-30  373554033.0    81.0   \n",
       "1   1995-12-15  262797249.0   104.0   \n",
       "\n",
       "                                    spoken_languages    status  \\\n",
       "0           [{'iso_639_1': 'en', 'name': 'English'}]  Released   \n",
       "1  [{'iso_639_1': 'en', 'name': 'English'}, {'iso...  Released   \n",
       "\n",
       "                                     tagline      title  video vote_average  \\\n",
       "0                                        NaN  Toy Story  False          7.7   \n",
       "1  Roll the dice and unleash the excitement!    Jumanji  False          6.9   \n",
       "\n",
       "  vote_count  \n",
       "0     5415.0  \n",
       "1     2413.0  \n",
       "\n",
       "[2 rows x 24 columns]"
      ]
     },
     "execution_count": 6,
     "metadata": {},
     "output_type": "execute_result"
    }
   ],
   "source": [
    "# 영화의 Metadata를 불러와서 movieID에 맞는 TITLE을 구해줍니다. \n",
    "meta = pd.read_csv(path + 'movies_metadata.csv', low_memory=False)\n",
    "meta.head(2)"
   ]
  },
  {
   "cell_type": "code",
   "execution_count": 7,
   "metadata": {
    "execution": {
     "iopub.execute_input": "2021-03-22T10:37:30.592149Z",
     "iopub.status.busy": "2021-03-22T10:37:30.591433Z",
     "iopub.status.idle": "2021-03-22T10:37:30.595700Z",
     "shell.execute_reply": "2021-03-22T10:37:30.596204Z"
    },
    "papermill": {
     "duration": 0.031398,
     "end_time": "2021-03-22T10:37:30.596354",
     "exception": false,
     "start_time": "2021-03-22T10:37:30.564956",
     "status": "completed"
    },
    "tags": []
   },
   "outputs": [
    {
     "data": {
      "text/plain": [
       "Index(['adult', 'belongs_to_collection', 'budget', 'genres', 'homepage', 'id',\n",
       "       'imdb_id', 'original_language', 'original_title', 'overview',\n",
       "       'popularity', 'poster_path', 'production_companies',\n",
       "       'production_countries', 'release_date', 'revenue', 'runtime',\n",
       "       'spoken_languages', 'status', 'tagline', 'title', 'video',\n",
       "       'vote_average', 'vote_count'],\n",
       "      dtype='object')"
      ]
     },
     "execution_count": 7,
     "metadata": {},
     "output_type": "execute_result"
    }
   ],
   "source": [
    "meta.columns"
   ]
  },
  {
   "cell_type": "code",
   "execution_count": 8,
   "metadata": {
    "execution": {
     "iopub.execute_input": "2021-03-22T10:37:30.662379Z",
     "iopub.status.busy": "2021-03-22T10:37:30.646910Z",
     "iopub.status.idle": "2021-03-22T10:37:30.883672Z",
     "shell.execute_reply": "2021-03-22T10:37:30.884179Z"
    },
    "papermill": {
     "duration": 0.265866,
     "end_time": "2021-03-22T10:37:30.884336",
     "exception": false,
     "start_time": "2021-03-22T10:37:30.618470",
     "status": "completed"
    },
    "tags": []
   },
   "outputs": [],
   "source": [
    "meta = meta.rename(columns={'id':'movieId'})\n",
    "movie['movieId'] = movie['movieId'].astype(str)\n",
    "meta['movieId'] = meta['movieId'].astype(str)\n",
    "\n",
    "movie = pd.merge(movie, meta[['movieId', 'original_title']], how='left', on='movieId')"
   ]
  },
  {
   "cell_type": "raw",
   "metadata": {
    "papermill": {
     "duration": 0.021993,
     "end_time": "2021-03-22T10:37:30.928237",
     "exception": false,
     "start_time": "2021-03-22T10:37:30.906244",
     "status": "completed"
    },
    "tags": []
   },
   "source": [
    "# UserId 별 MovidID 구매 목록을 생성 \n",
    "item_agg = movie.groupby(['title'])['userId'].agg({'nunique'}).reset_index()\n",
    "item_agg = item_agg[item_agg['nunique'] >= 5]['title'].values\n",
    "\n",
    "user_agg = movie.groupby(['userId'])['title'].agg({'nunique'}).reset_index()\n",
    "user_agg = user_agg[user_agg['nunique'] >= 5]['userId'].values"
   ]
  },
  {
   "cell_type": "raw",
   "metadata": {
    "papermill": {
     "duration": 0.022149,
     "end_time": "2021-03-22T10:37:30.972481",
     "exception": false,
     "start_time": "2021-03-22T10:37:30.950332",
     "status": "completed"
    },
    "tags": []
   },
   "source": [
    "# 전처리 수행 \n",
    "# 성능향상을 위해 5회 미만 구매된 상품, 5회 미만 구매한 고객은 제외하고 분석진행\n",
    "movie['check1'] = 0\n",
    "movie.loc[movie['title'].isin(item_agg), 'check1'] = 1\n",
    "\n",
    "movie['check2'] = 0\n",
    "movie.loc[movie['userId'].isin(user_agg), 'check2'] = 1\n",
    "\n",
    "movie = movie.loc[(movie['check1'] == 1) & (movie['check2'] == 1)].reset_index(drop=True)"
   ]
  },
  {
   "cell_type": "code",
   "execution_count": 9,
   "metadata": {
    "execution": {
     "iopub.execute_input": "2021-03-22T10:37:31.031132Z",
     "iopub.status.busy": "2021-03-22T10:37:31.030416Z",
     "iopub.status.idle": "2021-03-22T10:37:31.048621Z",
     "shell.execute_reply": "2021-03-22T10:37:31.047995Z"
    },
    "papermill": {
     "duration": 0.054244,
     "end_time": "2021-03-22T10:37:31.048736",
     "exception": false,
     "start_time": "2021-03-22T10:37:30.994492",
     "status": "completed"
    },
    "tags": []
   },
   "outputs": [],
   "source": [
    "movie = movie[movie['original_title'].notnull()].reset_index(drop=True)"
   ]
  },
  {
   "cell_type": "code",
   "execution_count": 10,
   "metadata": {
    "execution": {
     "iopub.execute_input": "2021-03-22T10:37:31.100569Z",
     "iopub.status.busy": "2021-03-22T10:37:31.099530Z",
     "iopub.status.idle": "2021-03-22T10:37:31.182591Z",
     "shell.execute_reply": "2021-03-22T10:37:31.182076Z"
    },
    "papermill": {
     "duration": 0.111865,
     "end_time": "2021-03-22T10:37:31.182712",
     "exception": false,
     "start_time": "2021-03-22T10:37:31.070847",
     "status": "completed"
    },
    "tags": []
   },
   "outputs": [
    {
     "data": {
      "text/html": [
       "<div>\n",
       "<style scoped>\n",
       "    .dataframe tbody tr th:only-of-type {\n",
       "        vertical-align: middle;\n",
       "    }\n",
       "\n",
       "    .dataframe tbody tr th {\n",
       "        vertical-align: top;\n",
       "    }\n",
       "\n",
       "    .dataframe thead th {\n",
       "        text-align: right;\n",
       "    }\n",
       "</style>\n",
       "<table border=\"1\" class=\"dataframe\">\n",
       "  <thead>\n",
       "    <tr style=\"text-align: right;\">\n",
       "      <th></th>\n",
       "      <th>unique</th>\n",
       "    </tr>\n",
       "    <tr>\n",
       "      <th>userId</th>\n",
       "      <th></th>\n",
       "    </tr>\n",
       "  </thead>\n",
       "  <tbody>\n",
       "    <tr>\n",
       "      <th>1</th>\n",
       "      <td>[Jay and Silent Bob Strike Back, Vivement dima...</td>\n",
       "    </tr>\n",
       "    <tr>\n",
       "      <th>2</th>\n",
       "      <td>[Terminator 3: Rise of the Machines, The Conve...</td>\n",
       "    </tr>\n",
       "    <tr>\n",
       "      <th>3</th>\n",
       "      <td>[300, The Killing, Shortbus, Finding Neverland...</td>\n",
       "    </tr>\n",
       "    <tr>\n",
       "      <th>4</th>\n",
       "      <td>[David, The Wedding Planner, Casablanca, Sleep...</td>\n",
       "    </tr>\n",
       "    <tr>\n",
       "      <th>5</th>\n",
       "      <td>[Gleaming the Cube, Cool Hand Luke, Hidalgo, U...</td>\n",
       "    </tr>\n",
       "  </tbody>\n",
       "</table>\n",
       "</div>"
      ],
      "text/plain": [
       "                                                   unique\n",
       "userId                                                   \n",
       "1       [Jay and Silent Bob Strike Back, Vivement dima...\n",
       "2       [Terminator 3: Rise of the Machines, The Conve...\n",
       "3       [300, The Killing, Shortbus, Finding Neverland...\n",
       "4       [David, The Wedding Planner, Casablanca, Sleep...\n",
       "5       [Gleaming the Cube, Cool Hand Luke, Hidalgo, U..."
      ]
     },
     "execution_count": 10,
     "metadata": {},
     "output_type": "execute_result"
    }
   ],
   "source": [
    "agg = movie.groupby(['userId'])['original_title'].agg({'unique'})\n",
    "agg.head()"
   ]
  },
  {
   "cell_type": "code",
   "execution_count": 11,
   "metadata": {
    "execution": {
     "iopub.execute_input": "2021-03-22T10:37:31.236812Z",
     "iopub.status.busy": "2021-03-22T10:37:31.236107Z",
     "iopub.status.idle": "2021-03-22T10:37:31.244004Z",
     "shell.execute_reply": "2021-03-22T10:37:31.243435Z"
    },
    "papermill": {
     "duration": 0.038038,
     "end_time": "2021-03-22T10:37:31.244130",
     "exception": false,
     "start_time": "2021-03-22T10:37:31.206092",
     "status": "completed"
    },
    "tags": []
   },
   "outputs": [
    {
     "data": {
      "text/plain": [
       "array(['The Endless Summer', 'Jarhead', '彼女の想いで', ...,\n",
       "       'The Lonedale Operator', 'Violeta se fue a los cielos',\n",
       "       'To Kill a Priest'], dtype=object)"
      ]
     },
     "execution_count": 11,
     "metadata": {},
     "output_type": "execute_result"
    }
   ],
   "source": [
    "movie['original_title'].unique()"
   ]
  },
  {
   "cell_type": "markdown",
   "metadata": {
    "papermill": {
     "duration": 0.023524,
     "end_time": "2021-03-22T10:37:31.292106",
     "exception": false,
     "start_time": "2021-03-22T10:37:31.268582",
     "status": "completed"
    },
    "tags": []
   },
   "source": [
    "Word2vec 적용"
   ]
  },
  {
   "cell_type": "code",
   "execution_count": 12,
   "metadata": {
    "execution": {
     "iopub.execute_input": "2021-03-22T10:37:31.358763Z",
     "iopub.status.busy": "2021-03-22T10:37:31.358049Z",
     "iopub.status.idle": "2021-03-22T10:37:31.361059Z",
     "shell.execute_reply": "2021-03-22T10:37:31.360515Z"
    },
    "papermill": {
     "duration": 0.043131,
     "end_time": "2021-03-22T10:37:31.361197",
     "exception": false,
     "start_time": "2021-03-22T10:37:31.318066",
     "status": "completed"
    },
    "tags": []
   },
   "outputs": [],
   "source": [
    "# int형식은 Word2vec에서 학습이 안되어서 String으로 변경해줍니다. \n",
    "sentence = []\n",
    "for user_sentence in agg['unique'].values:\n",
    "    sentence.append(list(map(str, user_sentence)))"
   ]
  },
  {
   "cell_type": "code",
   "execution_count": 13,
   "metadata": {
    "execution": {
     "iopub.execute_input": "2021-03-22T10:37:31.429986Z",
     "iopub.status.busy": "2021-03-22T10:37:31.423770Z",
     "iopub.status.idle": "2021-03-22T10:37:59.392719Z",
     "shell.execute_reply": "2021-03-22T10:37:59.392167Z"
    },
    "papermill": {
     "duration": 28.007287,
     "end_time": "2021-03-22T10:37:59.392843",
     "exception": false,
     "start_time": "2021-03-22T10:37:31.385556",
     "status": "completed"
    },
    "tags": []
   },
   "outputs": [],
   "source": [
    "# Word2vec의 학습을 진행해줍니다. \n",
    "from gensim.models import Word2Vec\n",
    "embedding_model = Word2Vec(sentence, size=20, window = 5, \n",
    "                           min_count=1, workers=4, iter=200, sg=1)"
   ]
  },
  {
   "cell_type": "code",
   "execution_count": 14,
   "metadata": {
    "execution": {
     "iopub.execute_input": "2021-03-22T10:37:59.445589Z",
     "iopub.status.busy": "2021-03-22T10:37:59.444921Z",
     "iopub.status.idle": "2021-03-22T10:37:59.479164Z",
     "shell.execute_reply": "2021-03-22T10:37:59.478330Z"
    },
    "papermill": {
     "duration": 0.062881,
     "end_time": "2021-03-22T10:37:59.479314",
     "exception": false,
     "start_time": "2021-03-22T10:37:59.416433",
     "status": "completed"
    },
    "tags": []
   },
   "outputs": [
    {
     "data": {
      "text/plain": [
       "[('Snow Cake', 0.8505643606185913),\n",
       " ('Domicile Conjugal', 0.7630471587181091),\n",
       " ('Licence to Kill', 0.7270383834838867),\n",
       " ('I, Robot', 0.7246425151824951),\n",
       " ('The Godfather', 0.7142737507820129),\n",
       " ('Krull', 0.7069061994552612),\n",
       " ('Forrest Gump', 0.7063434720039368),\n",
       " ('Some Like It Hot', 0.7042686939239502),\n",
       " ('Heavenly Creatures', 0.7001181840896606),\n",
       " ('Star Trek: Nemesis', 0.6986316442489624)]"
      ]
     },
     "execution_count": 14,
     "metadata": {},
     "output_type": "execute_result"
    }
   ],
   "source": [
    "embedding_model.wv.most_similar(positive=['Spider-Man 2'], topn=10)"
   ]
  },
  {
   "cell_type": "markdown",
   "metadata": {
    "papermill": {
     "duration": 0.02387,
     "end_time": "2021-03-22T10:37:59.531752",
     "exception": false,
     "start_time": "2021-03-22T10:37:59.507882",
     "status": "completed"
    },
    "tags": []
   },
   "source": [
    "## Doc2Vec 적용"
   ]
  },
  {
   "cell_type": "markdown",
   "metadata": {
    "papermill": {
     "duration": 0.023782,
     "end_time": "2021-03-22T10:37:59.583312",
     "exception": false,
     "start_time": "2021-03-22T10:37:59.559530",
     "status": "completed"
    },
    "tags": []
   },
   "source": [
    "![](https://drive.google.com/uc?export=view&id=1g2ausKfoaAT0jMwSatRUG3fiGWfDuysV\n",
    ")"
   ]
  },
  {
   "cell_type": "code",
   "execution_count": 15,
   "metadata": {
    "execution": {
     "iopub.execute_input": "2021-03-22T10:37:59.636614Z",
     "iopub.status.busy": "2021-03-22T10:37:59.635856Z",
     "iopub.status.idle": "2021-03-22T10:37:59.638676Z",
     "shell.execute_reply": "2021-03-22T10:37:59.639189Z"
    },
    "papermill": {
     "duration": 0.032035,
     "end_time": "2021-03-22T10:37:59.639329",
     "exception": false,
     "start_time": "2021-03-22T10:37:59.607294",
     "status": "completed"
    },
    "tags": []
   },
   "outputs": [],
   "source": [
    "from gensim.models import doc2vec"
   ]
  },
  {
   "cell_type": "code",
   "execution_count": 16,
   "metadata": {
    "execution": {
     "iopub.execute_input": "2021-03-22T10:37:59.702145Z",
     "iopub.status.busy": "2021-03-22T10:37:59.701387Z",
     "iopub.status.idle": "2021-03-22T10:38:00.533081Z",
     "shell.execute_reply": "2021-03-22T10:38:00.532447Z"
    },
    "papermill": {
     "duration": 0.869386,
     "end_time": "2021-03-22T10:38:00.533199",
     "exception": false,
     "start_time": "2021-03-22T10:37:59.663813",
     "status": "completed"
    },
    "tags": []
   },
   "outputs": [],
   "source": [
    "meta = pd.read_csv(path + 'movies_metadata.csv', low_memory=False)\n",
    "meta = meta[meta['original_title'].notnull()].reset_index(drop=True)\n",
    "meta = meta[meta['overview'].notnull()].reset_index(drop=True)"
   ]
  },
  {
   "cell_type": "code",
   "execution_count": 17,
   "metadata": {
    "execution": {
     "iopub.execute_input": "2021-03-22T10:38:00.585954Z",
     "iopub.status.busy": "2021-03-22T10:38:00.584961Z",
     "iopub.status.idle": "2021-03-22T10:39:09.385331Z",
     "shell.execute_reply": "2021-03-22T10:39:09.386111Z"
    },
    "papermill": {
     "duration": 68.828789,
     "end_time": "2021-03-22T10:39:09.386324",
     "exception": false,
     "start_time": "2021-03-22T10:38:00.557535",
     "status": "completed"
    },
    "tags": []
   },
   "outputs": [
    {
     "data": {
      "application/vnd.jupyter.widget-view+json": {
       "model_id": "1d30e433d5bf40b787e0ec6dfdd5adbb",
       "version_major": 2,
       "version_minor": 0
      },
      "text/plain": [
       "HBox(children=(FloatProgress(value=0.0, max=44512.0), HTML(value='')))"
      ]
     },
     "metadata": {},
     "output_type": "display_data"
    },
    {
     "name": "stdout",
     "output_type": "stream",
     "text": [
      "\n"
     ]
    }
   ],
   "source": [
    "from nltk.corpus import stopwords \n",
    "from tqdm.notebook import tqdm\n",
    "from nltk.tokenize import word_tokenize, sent_tokenize\n",
    "import re \n",
    "stop_words = set(stopwords.words('english')) \n",
    "\n",
    "overview = []\n",
    "for words in tqdm(meta['overview']):\n",
    "    word_tokens = word_tokenize(words)\n",
    "    sentence = re.sub('[^A-Za-z0-9]+', ' ', str(word_tokens))\n",
    "    sentence = sentence.strip()\n",
    "    \n",
    "    sentence_tokens = word_tokenize(sentence)\n",
    "    result = ''\n",
    "    for token in sentence_tokens: \n",
    "        if token not in stop_words:\n",
    "            result += ' ' + token \n",
    "    result = result.strip().lower()\n",
    "    overview.append(result)"
   ]
  },
  {
   "cell_type": "code",
   "execution_count": 18,
   "metadata": {
    "execution": {
     "iopub.execute_input": "2021-03-22T10:39:09.456025Z",
     "iopub.status.busy": "2021-03-22T10:39:09.454508Z",
     "iopub.status.idle": "2021-03-22T10:39:09.459879Z",
     "shell.execute_reply": "2021-03-22T10:39:09.458706Z"
    },
    "papermill": {
     "duration": 0.046995,
     "end_time": "2021-03-22T10:39:09.460012",
     "exception": false,
     "start_time": "2021-03-22T10:39:09.413017",
     "status": "completed"
    },
    "tags": []
   },
   "outputs": [],
   "source": [
    "meta['pre_overview'] = overview"
   ]
  },
  {
   "cell_type": "code",
   "execution_count": 19,
   "metadata": {
    "execution": {
     "iopub.execute_input": "2021-03-22T10:39:09.519337Z",
     "iopub.status.busy": "2021-03-22T10:39:09.518322Z",
     "iopub.status.idle": "2021-03-22T10:39:09.521573Z",
     "shell.execute_reply": "2021-03-22T10:39:09.521065Z"
    },
    "papermill": {
     "duration": 0.036274,
     "end_time": "2021-03-22T10:39:09.521688",
     "exception": false,
     "start_time": "2021-03-22T10:39:09.485414",
     "status": "completed"
    },
    "tags": []
   },
   "outputs": [],
   "source": [
    "doc_vectorizer = doc2vec.Doc2Vec(\n",
    "    dm=0,            # PV-DBOW / default 1\n",
    "    dbow_words=1,    # w2v simultaneous with DBOW d2v / default 0\n",
    "    window=10,        # distance between the predicted word and context words\n",
    "    size=100,        # vector size\n",
    "    alpha=0.025,     # learning-rate\n",
    "    seed=1234,\n",
    "    min_count=5,    # ignore with freq lower\n",
    "    min_alpha=0.025, # min learning-rate\n",
    "    workers=4,   # multi cpu\n",
    "    hs = 1,          # hierar chical softmax / default 0\n",
    "    negative = 10   # negative sampling / default 5\n",
    ")"
   ]
  },
  {
   "cell_type": "code",
   "execution_count": 20,
   "metadata": {
    "execution": {
     "iopub.execute_input": "2021-03-22T10:39:09.584604Z",
     "iopub.status.busy": "2021-03-22T10:39:09.583505Z",
     "iopub.status.idle": "2021-03-22T10:39:09.840900Z",
     "shell.execute_reply": "2021-03-22T10:39:09.840301Z"
    },
    "papermill": {
     "duration": 0.290857,
     "end_time": "2021-03-22T10:39:09.841036",
     "exception": false,
     "start_time": "2021-03-22T10:39:09.550179",
     "status": "completed"
    },
    "tags": []
   },
   "outputs": [],
   "source": [
    "from collections import namedtuple\n",
    "\n",
    "agg = meta[['id', 'original_title', 'pre_overview']]\n",
    "TaggedDocument = namedtuple('TaggedDocument', 'words tags')\n",
    "tagged_train_docs = [TaggedDocument((c), [d]) for d, c in agg[['original_title', 'pre_overview']].values]"
   ]
  },
  {
   "cell_type": "code",
   "execution_count": 21,
   "metadata": {
    "execution": {
     "iopub.execute_input": "2021-03-22T10:39:09.903939Z",
     "iopub.status.busy": "2021-03-22T10:39:09.897320Z",
     "iopub.status.idle": "2021-03-22T10:39:27.462002Z",
     "shell.execute_reply": "2021-03-22T10:39:27.462496Z"
    },
    "papermill": {
     "duration": 17.595801,
     "end_time": "2021-03-22T10:39:27.462654",
     "exception": false,
     "start_time": "2021-03-22T10:39:09.866853",
     "status": "completed"
    },
    "tags": []
   },
   "outputs": [
    {
     "name": "stdout",
     "output_type": "stream",
     "text": [
      "Doc2Vec(dbow+w,d100,n10,hs,w10,mc5,s0.001,t4)\n"
     ]
    }
   ],
   "source": [
    "doc_vectorizer.build_vocab(tagged_train_docs)\n",
    "print(str(doc_vectorizer))"
   ]
  },
  {
   "cell_type": "code",
   "execution_count": 22,
   "metadata": {
    "execution": {
     "iopub.execute_input": "2021-03-22T10:39:27.542363Z",
     "iopub.status.busy": "2021-03-22T10:39:27.522344Z",
     "iopub.status.idle": "2021-03-22T10:52:13.663575Z",
     "shell.execute_reply": "2021-03-22T10:52:13.660095Z"
    },
    "papermill": {
     "duration": 766.174884,
     "end_time": "2021-03-22T10:52:13.663712",
     "exception": false,
     "start_time": "2021-03-22T10:39:27.488828",
     "status": "completed"
    },
    "tags": []
   },
   "outputs": [
    {
     "data": {
      "application/vnd.jupyter.widget-view+json": {
       "model_id": "f5c630408cac4cdd8febfe6ffbf67f8f",
       "version_major": 2,
       "version_minor": 0
      },
      "text/plain": [
       "HBox(children=(FloatProgress(value=0.0, max=5.0), HTML(value='')))"
      ]
     },
     "metadata": {},
     "output_type": "display_data"
    },
    {
     "name": "stdout",
     "output_type": "stream",
     "text": [
      "\n",
      "During Time: 766.1116979122162\n"
     ]
    }
   ],
   "source": [
    "# 벡터 문서 학습\n",
    "from time import time\n",
    "\n",
    "start = time()\n",
    "\n",
    "for epoch in tqdm(range(5)):\n",
    "    doc_vectorizer.train(tagged_train_docs, total_examples=doc_vectorizer.corpus_count, epochs=doc_vectorizer.iter)\n",
    "    doc_vectorizer.alpha -= 0.002 # decrease the learning rate\n",
    "    doc_vectorizer.min_alpha = doc_vectorizer.alpha # fix the learning rate, no decay\n",
    "\n",
    "#doc_vectorizer.train(tagged_train_docs, total_examples=doc_vectorizer.corpus_count, epochs=doc_vectorizer.iter)\n",
    "end = time()\n",
    "print(\"During Time: {}\".format(end-start))"
   ]
  },
  {
   "cell_type": "code",
   "execution_count": 23,
   "metadata": {
    "execution": {
     "iopub.execute_input": "2021-03-22T10:52:13.721934Z",
     "iopub.status.busy": "2021-03-22T10:52:13.721177Z",
     "iopub.status.idle": "2021-03-22T10:52:13.755279Z",
     "shell.execute_reply": "2021-03-22T10:52:13.755940Z"
    },
    "papermill": {
     "duration": 0.065172,
     "end_time": "2021-03-22T10:52:13.756116",
     "exception": false,
     "start_time": "2021-03-22T10:52:13.690944",
     "status": "completed"
    },
    "tags": []
   },
   "outputs": [
    {
     "data": {
      "text/plain": [
       "[('Letzte Worte', 0.7423182725906372),\n",
       " ('La moutarde me monte au nez', 0.6931746006011963),\n",
       " ('Kader', 0.6900465488433838),\n",
       " ('Children in the Surf at Coney Island', 0.6730849146842957),\n",
       " ('Przechodzien', 0.6717959642410278),\n",
       " ('It Stains the Sands Red', 0.6665500402450562),\n",
       " ('Stryapukha', 0.6633526086807251),\n",
       " ('Unstrung Heroes', 0.6624222993850708),\n",
       " ('По следам бременских музыкантов', 0.6539246439933777),\n",
       " ('Особенности национальной политики', 0.6518951654434204),\n",
       " ('The Aristocats', 0.6504817008972168),\n",
       " ('Skazka o Poteryannom Vremeni', 0.6501118540763855),\n",
       " ('12 Feet Deep', 0.6472882032394409),\n",
       " ('El vendedor de humo', 0.6385210156440735),\n",
       " ('My Friends Need Killing', 0.6351690292358398),\n",
       " ('Water & Power: A California Heist', 0.6296603083610535),\n",
       " ('Thunder Road', 0.6233446598052979),\n",
       " ('Due Amici', 0.6210700869560242),\n",
       " ('El Gran Vázquez', 0.6210695505142212),\n",
       " ('Kaos', 0.6188639998435974)]"
      ]
     },
     "execution_count": 23,
     "metadata": {},
     "output_type": "execute_result"
    }
   ],
   "source": [
    "doc_vectorizer.docvecs.most_similar('Toy Story', topn=20)"
   ]
  },
  {
   "cell_type": "code",
   "execution_count": 24,
   "metadata": {
    "execution": {
     "iopub.execute_input": "2021-03-22T10:52:13.824000Z",
     "iopub.status.busy": "2021-03-22T10:52:13.823326Z",
     "iopub.status.idle": "2021-03-22T10:52:13.835045Z",
     "shell.execute_reply": "2021-03-22T10:52:13.834448Z"
    },
    "papermill": {
     "duration": 0.042792,
     "end_time": "2021-03-22T10:52:13.835181",
     "exception": false,
     "start_time": "2021-03-22T10:52:13.792389",
     "status": "completed"
    },
    "tags": []
   },
   "outputs": [
    {
     "data": {
      "text/plain": [
       "[('Skidoo', 0.7517136931419373),\n",
       " ('Demonic Toys', 0.7213362455368042),\n",
       " ('The Great Ecstasy of Robert Carmichael', 0.7018694877624512),\n",
       " ('$ Dollars', 0.7014257311820984),\n",
       " ('Kasaba', 0.6635128259658813),\n",
       " ('Se sei vivo spara', 0.6613894104957581),\n",
       " ('Just Like Us', 0.6587302088737488),\n",
       " ('The Blacksmith', 0.6484951376914978),\n",
       " ('1990: I guerrieri del Bronx', 0.648390531539917),\n",
       " ('Blood River', 0.6459505558013916),\n",
       " ('Handsome Harry', 0.6454256772994995),\n",
       " ('Der Räuber', 0.6429744958877563),\n",
       " ('Une femme douce', 0.641798734664917),\n",
       " ('কাঞ্চনজঙ্ঘা', 0.6296833753585815),\n",
       " ('Saint John of Las Vegas', 0.6182495355606079),\n",
       " ('Glue', 0.6150935292243958),\n",
       " ('20 Seconds of Joy', 0.6144537329673767),\n",
       " ('Il deserto dei Tartari', 0.6135669350624084),\n",
       " ('Dragonlance: Dragons Of Autumn Twilight', 0.6117035746574402),\n",
       " ('The Prizefighter and the Lady', 0.6052166223526001)]"
      ]
     },
     "execution_count": 24,
     "metadata": {},
     "output_type": "execute_result"
    }
   ],
   "source": [
    "doc_vectorizer.docvecs.most_similar('Harry Potter and the Deathly Hallows: Part 1', topn=20)"
   ]
  },
  {
   "cell_type": "code",
   "execution_count": null,
   "metadata": {
    "papermill": {
     "duration": 0.028068,
     "end_time": "2021-03-22T10:52:13.892093",
     "exception": false,
     "start_time": "2021-03-22T10:52:13.864025",
     "status": "completed"
    },
    "tags": []
   },
   "outputs": [],
   "source": []
  }
 ],
 "metadata": {
  "kernelspec": {
   "display_name": "Python 3",
   "language": "python",
   "name": "python3"
  },
  "language_info": {
   "codemirror_mode": {
    "name": "ipython",
    "version": 3
   },
   "file_extension": ".py",
   "mimetype": "text/x-python",
   "name": "python",
   "nbconvert_exporter": "python",
   "pygments_lexer": "ipython3",
   "version": "3.7.6"
  },
  "papermill": {
   "duration": 891.590628,
   "end_time": "2021-03-22T10:52:14.030411",
   "environment_variables": {},
   "exception": null,
   "input_path": "__notebook__.ipynb",
   "output_path": "__notebook__.ipynb",
   "parameters": {},
   "start_time": "2021-03-22T10:37:22.439783",
   "version": "2.1.0"
  },
  "widgets": {
   "application/vnd.jupyter.widget-state+json": {
    "state": {
     "1316908ea70945dbb7a1f13b8df3e6a1": {
      "model_module": "@jupyter-widgets/controls",
      "model_module_version": "1.5.0",
      "model_name": "ProgressStyleModel",
      "state": {
       "_model_module": "@jupyter-widgets/controls",
       "_model_module_version": "1.5.0",
       "_model_name": "ProgressStyleModel",
       "_view_count": null,
       "_view_module": "@jupyter-widgets/base",
       "_view_module_version": "1.2.0",
       "_view_name": "StyleView",
       "bar_color": null,
       "description_width": "initial"
      }
     },
     "1d30e433d5bf40b787e0ec6dfdd5adbb": {
      "model_module": "@jupyter-widgets/controls",
      "model_module_version": "1.5.0",
      "model_name": "HBoxModel",
      "state": {
       "_dom_classes": [],
       "_model_module": "@jupyter-widgets/controls",
       "_model_module_version": "1.5.0",
       "_model_name": "HBoxModel",
       "_view_count": null,
       "_view_module": "@jupyter-widgets/controls",
       "_view_module_version": "1.5.0",
       "_view_name": "HBoxView",
       "box_style": "",
       "children": [
        "IPY_MODEL_8dd1f3ad01104052b97176da6d379d69",
        "IPY_MODEL_ae0bf90ea6264ade93ce574a34eb74c5"
       ],
       "layout": "IPY_MODEL_8857c2a8220d40f3b9e5a8687a8e99d4"
      }
     },
     "4d818965e10547f08e986413d3d6bf4d": {
      "model_module": "@jupyter-widgets/base",
      "model_module_version": "1.2.0",
      "model_name": "LayoutModel",
      "state": {
       "_model_module": "@jupyter-widgets/base",
       "_model_module_version": "1.2.0",
       "_model_name": "LayoutModel",
       "_view_count": null,
       "_view_module": "@jupyter-widgets/base",
       "_view_module_version": "1.2.0",
       "_view_name": "LayoutView",
       "align_content": null,
       "align_items": null,
       "align_self": null,
       "border": null,
       "bottom": null,
       "display": null,
       "flex": null,
       "flex_flow": null,
       "grid_area": null,
       "grid_auto_columns": null,
       "grid_auto_flow": null,
       "grid_auto_rows": null,
       "grid_column": null,
       "grid_gap": null,
       "grid_row": null,
       "grid_template_areas": null,
       "grid_template_columns": null,
       "grid_template_rows": null,
       "height": null,
       "justify_content": null,
       "justify_items": null,
       "left": null,
       "margin": null,
       "max_height": null,
       "max_width": null,
       "min_height": null,
       "min_width": null,
       "object_fit": null,
       "object_position": null,
       "order": null,
       "overflow": null,
       "overflow_x": null,
       "overflow_y": null,
       "padding": null,
       "right": null,
       "top": null,
       "visibility": null,
       "width": null
      }
     },
     "70eda7220855472db01ea1f2e36a1f3e": {
      "model_module": "@jupyter-widgets/base",
      "model_module_version": "1.2.0",
      "model_name": "LayoutModel",
      "state": {
       "_model_module": "@jupyter-widgets/base",
       "_model_module_version": "1.2.0",
       "_model_name": "LayoutModel",
       "_view_count": null,
       "_view_module": "@jupyter-widgets/base",
       "_view_module_version": "1.2.0",
       "_view_name": "LayoutView",
       "align_content": null,
       "align_items": null,
       "align_self": null,
       "border": null,
       "bottom": null,
       "display": null,
       "flex": null,
       "flex_flow": null,
       "grid_area": null,
       "grid_auto_columns": null,
       "grid_auto_flow": null,
       "grid_auto_rows": null,
       "grid_column": null,
       "grid_gap": null,
       "grid_row": null,
       "grid_template_areas": null,
       "grid_template_columns": null,
       "grid_template_rows": null,
       "height": null,
       "justify_content": null,
       "justify_items": null,
       "left": null,
       "margin": null,
       "max_height": null,
       "max_width": null,
       "min_height": null,
       "min_width": null,
       "object_fit": null,
       "object_position": null,
       "order": null,
       "overflow": null,
       "overflow_x": null,
       "overflow_y": null,
       "padding": null,
       "right": null,
       "top": null,
       "visibility": null,
       "width": null
      }
     },
     "71a7079b2bc44821a6734f9c12123cb2": {
      "model_module": "@jupyter-widgets/controls",
      "model_module_version": "1.5.0",
      "model_name": "DescriptionStyleModel",
      "state": {
       "_model_module": "@jupyter-widgets/controls",
       "_model_module_version": "1.5.0",
       "_model_name": "DescriptionStyleModel",
       "_view_count": null,
       "_view_module": "@jupyter-widgets/base",
       "_view_module_version": "1.2.0",
       "_view_name": "StyleView",
       "description_width": ""
      }
     },
     "7d453ae66cab452fa42e8668ee4f28ea": {
      "model_module": "@jupyter-widgets/controls",
      "model_module_version": "1.5.0",
      "model_name": "DescriptionStyleModel",
      "state": {
       "_model_module": "@jupyter-widgets/controls",
       "_model_module_version": "1.5.0",
       "_model_name": "DescriptionStyleModel",
       "_view_count": null,
       "_view_module": "@jupyter-widgets/base",
       "_view_module_version": "1.2.0",
       "_view_name": "StyleView",
       "description_width": ""
      }
     },
     "8857c2a8220d40f3b9e5a8687a8e99d4": {
      "model_module": "@jupyter-widgets/base",
      "model_module_version": "1.2.0",
      "model_name": "LayoutModel",
      "state": {
       "_model_module": "@jupyter-widgets/base",
       "_model_module_version": "1.2.0",
       "_model_name": "LayoutModel",
       "_view_count": null,
       "_view_module": "@jupyter-widgets/base",
       "_view_module_version": "1.2.0",
       "_view_name": "LayoutView",
       "align_content": null,
       "align_items": null,
       "align_self": null,
       "border": null,
       "bottom": null,
       "display": null,
       "flex": null,
       "flex_flow": null,
       "grid_area": null,
       "grid_auto_columns": null,
       "grid_auto_flow": null,
       "grid_auto_rows": null,
       "grid_column": null,
       "grid_gap": null,
       "grid_row": null,
       "grid_template_areas": null,
       "grid_template_columns": null,
       "grid_template_rows": null,
       "height": null,
       "justify_content": null,
       "justify_items": null,
       "left": null,
       "margin": null,
       "max_height": null,
       "max_width": null,
       "min_height": null,
       "min_width": null,
       "object_fit": null,
       "object_position": null,
       "order": null,
       "overflow": null,
       "overflow_x": null,
       "overflow_y": null,
       "padding": null,
       "right": null,
       "top": null,
       "visibility": null,
       "width": null
      }
     },
     "8dd1f3ad01104052b97176da6d379d69": {
      "model_module": "@jupyter-widgets/controls",
      "model_module_version": "1.5.0",
      "model_name": "FloatProgressModel",
      "state": {
       "_dom_classes": [],
       "_model_module": "@jupyter-widgets/controls",
       "_model_module_version": "1.5.0",
       "_model_name": "FloatProgressModel",
       "_view_count": null,
       "_view_module": "@jupyter-widgets/controls",
       "_view_module_version": "1.5.0",
       "_view_name": "ProgressView",
       "bar_style": "success",
       "description": "100%",
       "description_tooltip": null,
       "layout": "IPY_MODEL_bc191cb11ad2483da72624bd8cf2af7e",
       "max": 44512.0,
       "min": 0.0,
       "orientation": "horizontal",
       "style": "IPY_MODEL_1316908ea70945dbb7a1f13b8df3e6a1",
       "value": 44512.0
      }
     },
     "a237c281abf049b2bc1b8feb204e5f37": {
      "model_module": "@jupyter-widgets/base",
      "model_module_version": "1.2.0",
      "model_name": "LayoutModel",
      "state": {
       "_model_module": "@jupyter-widgets/base",
       "_model_module_version": "1.2.0",
       "_model_name": "LayoutModel",
       "_view_count": null,
       "_view_module": "@jupyter-widgets/base",
       "_view_module_version": "1.2.0",
       "_view_name": "LayoutView",
       "align_content": null,
       "align_items": null,
       "align_self": null,
       "border": null,
       "bottom": null,
       "display": null,
       "flex": null,
       "flex_flow": null,
       "grid_area": null,
       "grid_auto_columns": null,
       "grid_auto_flow": null,
       "grid_auto_rows": null,
       "grid_column": null,
       "grid_gap": null,
       "grid_row": null,
       "grid_template_areas": null,
       "grid_template_columns": null,
       "grid_template_rows": null,
       "height": null,
       "justify_content": null,
       "justify_items": null,
       "left": null,
       "margin": null,
       "max_height": null,
       "max_width": null,
       "min_height": null,
       "min_width": null,
       "object_fit": null,
       "object_position": null,
       "order": null,
       "overflow": null,
       "overflow_x": null,
       "overflow_y": null,
       "padding": null,
       "right": null,
       "top": null,
       "visibility": null,
       "width": null
      }
     },
     "ae0bf90ea6264ade93ce574a34eb74c5": {
      "model_module": "@jupyter-widgets/controls",
      "model_module_version": "1.5.0",
      "model_name": "HTMLModel",
      "state": {
       "_dom_classes": [],
       "_model_module": "@jupyter-widgets/controls",
       "_model_module_version": "1.5.0",
       "_model_name": "HTMLModel",
       "_view_count": null,
       "_view_module": "@jupyter-widgets/controls",
       "_view_module_version": "1.5.0",
       "_view_name": "HTMLView",
       "description": "",
       "description_tooltip": null,
       "layout": "IPY_MODEL_a237c281abf049b2bc1b8feb204e5f37",
       "placeholder": "​",
       "style": "IPY_MODEL_71a7079b2bc44821a6734f9c12123cb2",
       "value": " 44512/44512 [01:08&lt;00:00, 652.77it/s]"
      }
     },
     "afcdbc2f256d4bec8d491c5f1922cf7e": {
      "model_module": "@jupyter-widgets/controls",
      "model_module_version": "1.5.0",
      "model_name": "ProgressStyleModel",
      "state": {
       "_model_module": "@jupyter-widgets/controls",
       "_model_module_version": "1.5.0",
       "_model_name": "ProgressStyleModel",
       "_view_count": null,
       "_view_module": "@jupyter-widgets/base",
       "_view_module_version": "1.2.0",
       "_view_name": "StyleView",
       "bar_color": null,
       "description_width": "initial"
      }
     },
     "bbf13a469e304f7dbbbb3f3534a2a032": {
      "model_module": "@jupyter-widgets/base",
      "model_module_version": "1.2.0",
      "model_name": "LayoutModel",
      "state": {
       "_model_module": "@jupyter-widgets/base",
       "_model_module_version": "1.2.0",
       "_model_name": "LayoutModel",
       "_view_count": null,
       "_view_module": "@jupyter-widgets/base",
       "_view_module_version": "1.2.0",
       "_view_name": "LayoutView",
       "align_content": null,
       "align_items": null,
       "align_self": null,
       "border": null,
       "bottom": null,
       "display": null,
       "flex": null,
       "flex_flow": null,
       "grid_area": null,
       "grid_auto_columns": null,
       "grid_auto_flow": null,
       "grid_auto_rows": null,
       "grid_column": null,
       "grid_gap": null,
       "grid_row": null,
       "grid_template_areas": null,
       "grid_template_columns": null,
       "grid_template_rows": null,
       "height": null,
       "justify_content": null,
       "justify_items": null,
       "left": null,
       "margin": null,
       "max_height": null,
       "max_width": null,
       "min_height": null,
       "min_width": null,
       "object_fit": null,
       "object_position": null,
       "order": null,
       "overflow": null,
       "overflow_x": null,
       "overflow_y": null,
       "padding": null,
       "right": null,
       "top": null,
       "visibility": null,
       "width": null
      }
     },
     "bc191cb11ad2483da72624bd8cf2af7e": {
      "model_module": "@jupyter-widgets/base",
      "model_module_version": "1.2.0",
      "model_name": "LayoutModel",
      "state": {
       "_model_module": "@jupyter-widgets/base",
       "_model_module_version": "1.2.0",
       "_model_name": "LayoutModel",
       "_view_count": null,
       "_view_module": "@jupyter-widgets/base",
       "_view_module_version": "1.2.0",
       "_view_name": "LayoutView",
       "align_content": null,
       "align_items": null,
       "align_self": null,
       "border": null,
       "bottom": null,
       "display": null,
       "flex": null,
       "flex_flow": null,
       "grid_area": null,
       "grid_auto_columns": null,
       "grid_auto_flow": null,
       "grid_auto_rows": null,
       "grid_column": null,
       "grid_gap": null,
       "grid_row": null,
       "grid_template_areas": null,
       "grid_template_columns": null,
       "grid_template_rows": null,
       "height": null,
       "justify_content": null,
       "justify_items": null,
       "left": null,
       "margin": null,
       "max_height": null,
       "max_width": null,
       "min_height": null,
       "min_width": null,
       "object_fit": null,
       "object_position": null,
       "order": null,
       "overflow": null,
       "overflow_x": null,
       "overflow_y": null,
       "padding": null,
       "right": null,
       "top": null,
       "visibility": null,
       "width": null
      }
     },
     "d186d7b63d85460bb5d557f67328fa0d": {
      "model_module": "@jupyter-widgets/controls",
      "model_module_version": "1.5.0",
      "model_name": "HTMLModel",
      "state": {
       "_dom_classes": [],
       "_model_module": "@jupyter-widgets/controls",
       "_model_module_version": "1.5.0",
       "_model_name": "HTMLModel",
       "_view_count": null,
       "_view_module": "@jupyter-widgets/controls",
       "_view_module_version": "1.5.0",
       "_view_name": "HTMLView",
       "description": "",
       "description_tooltip": null,
       "layout": "IPY_MODEL_bbf13a469e304f7dbbbb3f3534a2a032",
       "placeholder": "​",
       "style": "IPY_MODEL_7d453ae66cab452fa42e8668ee4f28ea",
       "value": " 5/5 [12:46&lt;00:00, 153.22s/it]"
      }
     },
     "dac547cf09b14581a5c454075f4b3ae4": {
      "model_module": "@jupyter-widgets/controls",
      "model_module_version": "1.5.0",
      "model_name": "FloatProgressModel",
      "state": {
       "_dom_classes": [],
       "_model_module": "@jupyter-widgets/controls",
       "_model_module_version": "1.5.0",
       "_model_name": "FloatProgressModel",
       "_view_count": null,
       "_view_module": "@jupyter-widgets/controls",
       "_view_module_version": "1.5.0",
       "_view_name": "ProgressView",
       "bar_style": "success",
       "description": "100%",
       "description_tooltip": null,
       "layout": "IPY_MODEL_70eda7220855472db01ea1f2e36a1f3e",
       "max": 5.0,
       "min": 0.0,
       "orientation": "horizontal",
       "style": "IPY_MODEL_afcdbc2f256d4bec8d491c5f1922cf7e",
       "value": 5.0
      }
     },
     "f5c630408cac4cdd8febfe6ffbf67f8f": {
      "model_module": "@jupyter-widgets/controls",
      "model_module_version": "1.5.0",
      "model_name": "HBoxModel",
      "state": {
       "_dom_classes": [],
       "_model_module": "@jupyter-widgets/controls",
       "_model_module_version": "1.5.0",
       "_model_name": "HBoxModel",
       "_view_count": null,
       "_view_module": "@jupyter-widgets/controls",
       "_view_module_version": "1.5.0",
       "_view_name": "HBoxView",
       "box_style": "",
       "children": [
        "IPY_MODEL_dac547cf09b14581a5c454075f4b3ae4",
        "IPY_MODEL_d186d7b63d85460bb5d557f67328fa0d"
       ],
       "layout": "IPY_MODEL_4d818965e10547f08e986413d3d6bf4d"
      }
     }
    },
    "version_major": 2,
    "version_minor": 0
   }
  }
 },
 "nbformat": 4,
 "nbformat_minor": 4
}
